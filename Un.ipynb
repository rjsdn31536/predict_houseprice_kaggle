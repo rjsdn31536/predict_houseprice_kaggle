{
  "nbformat": 4,
  "nbformat_minor": 0,
  "metadata": {
    "colab": {
      "name": "Untitled0.ipynb",
      "version": "0.3.2",
      "provenance": [],
      "collapsed_sections": [],
      "toc_visible": true,
      "include_colab_link": true
    },
    "kernelspec": {
      "name": "python3",
      "display_name": "Python 3"
    }
  },
  "cells": [
    {
      "cell_type": "markdown",
      "metadata": {
        "id": "view-in-github",
        "colab_type": "text"
      },
      "source": [
        "<a href=\"https://colab.research.google.com/github/rjsdn31536/predict_price/blob/master/Un.ipynb\" target=\"_parent\"><img src=\"https://colab.research.google.com/assets/colab-badge.svg\" alt=\"Open In Colab\"/></a>"
      ]
    },
    {
      "metadata": {
        "id": "M_t0HBw8JaBO",
        "colab_type": "code",
        "outputId": "7c77b9b5-8d09-4327-f3e3-cd8fac218419",
        "colab": {
          "base_uri": "https://localhost:8080/",
          "height": 35
        }
      },
      "cell_type": "code",
      "source": [
        "from google.colab import auth\n",
        "auth.authenticate_user()\n",
        "\n",
        "from google.colab import drive\n",
        "drive.mount('/gdrive')"
      ],
      "execution_count": 61,
      "outputs": [
        {
          "output_type": "stream",
          "text": [
            "Drive already mounted at /gdrive; to attempt to forcibly remount, call drive.mount(\"/gdrive\", force_remount=True).\n"
          ],
          "name": "stdout"
        }
      ]
    },
    {
      "metadata": {
        "id": "6Gob0rSlYu57",
        "colab_type": "code",
        "colab": {
          "base_uri": "https://localhost:8080/",
          "height": 53
        },
        "outputId": "4dc23858-2f55-4b40-f140-1f701965d2cb"
      },
      "cell_type": "code",
      "source": [
        ""
      ],
      "execution_count": 91,
      "outputs": [
        {
          "output_type": "stream",
          "text": [
            "\u001b[0m\u001b[01;34mdata\u001b[0m/  \u001b[01;34moutput_csv\u001b[0m/         predict_learn.ipynb  \u001b[01;34mtensorboard\u001b[0m/\n",
            "\u001b[01;34mimg\u001b[0m/   predict_data.ipynb  README.md\n"
          ],
          "name": "stdout"
        }
      ]
    },
    {
      "metadata": {
        "id": "eenwiDaNWmVM",
        "colab_type": "code",
        "colab": {}
      },
      "cell_type": "code",
      "source": [
        "!ls"
      ],
      "execution_count": 0,
      "outputs": []
    },
    {
      "metadata": {
        "id": "MBBQ33yfXtTM",
        "colab_type": "code",
        "colab": {
          "base_uri": "https://localhost:8080/",
          "height": 53
        },
        "outputId": "6f6abd05-6c77-4cfe-8e33-ceb93ee3abbc"
      },
      "cell_type": "code",
      "source": [
        "ls -ltr"
      ],
      "execution_count": 52,
      "outputs": [
        {
          "output_type": "stream",
          "text": [
            "total 4\n",
            "drwxr-xr-x 2 root root 4096 Jan 23 01:40 \u001b[0m\u001b[01;34maaa\u001b[0m/\n"
          ],
          "name": "stdout"
        }
      ]
    },
    {
      "metadata": {
        "id": "Bdr-O3AQRrOO",
        "colab_type": "code",
        "outputId": "6ac526c3-8f7d-4c2f-aa69-daba6a76030c",
        "colab": {
          "base_uri": "https://localhost:8080/",
          "height": 35
        }
      },
      "cell_type": "code",
      "source": [
        "!cd gdrive\n",
        "!mkdir drive"
      ],
      "execution_count": 0,
      "outputs": [
        {
          "output_type": "stream",
          "text": [
            "/bin/bash: line 0: cd: gdrive: No such file or directory\n"
          ],
          "name": "stdout"
        }
      ]
    },
    {
      "metadata": {
        "id": "nPMvDr3YU3g0",
        "colab_type": "code",
        "outputId": "a6d0d872-bce1-4f42-e126-bdddb9f08a01",
        "colab": {
          "base_uri": "https://localhost:8080/",
          "height": 161
        }
      },
      "cell_type": "code",
      "source": [
        "!cd drive/\n",
        "!ls -al"
      ],
      "execution_count": 0,
      "outputs": [
        {
          "output_type": "stream",
          "text": [
            "total 36\n",
            "drwxr-xr-x 1 root root 4096 Jan 23 01:29 .\n",
            "drwxr-xr-x 1 root root 4096 Jan 23 01:30 ..\n",
            "-rw-r--r-- 1 root root 2511 Jan 23 01:25 adc.json\n",
            "drwxr-xr-x 1 root root 4096 Jan 23 01:25 .config\n",
            "drwxr-xr-x 2 root root 4096 Jan 23 01:29 drive\n",
            "drwxr-xr-x 7 root root 4096 Jan 23 01:14 predict_price\n",
            "drwxr-xr-x 1 root root 4096 Jan  8 17:15 sample_data\n"
          ],
          "name": "stdout"
        }
      ]
    },
    {
      "metadata": {
        "id": "xGk872W9Rrjg",
        "colab_type": "code",
        "outputId": "6df66138-4e1e-45d1-c290-afcc5b3b52ca",
        "colab": {
          "base_uri": "https://localhost:8080/",
          "height": 35
        }
      },
      "cell_type": "code",
      "source": [
        "!ls"
      ],
      "execution_count": 0,
      "outputs": [
        {
          "output_type": "stream",
          "text": [
            "predict_price  sample_data\n"
          ],
          "name": "stdout"
        }
      ]
    },
    {
      "metadata": {
        "id": "UpxTIYp9O12D",
        "colab_type": "code",
        "outputId": "724568b8-eda5-4312-c08b-13a7bb7fdf14",
        "colab": {
          "base_uri": "https://localhost:8080/",
          "height": 35
        }
      },
      "cell_type": "code",
      "source": [
        "!git clone https://github.com/rjsdn31536/predict_price"
      ],
      "execution_count": 0,
      "outputs": [
        {
          "output_type": "stream",
          "text": [
            "fatal: destination path 'predict_price' already exists and is not an empty directory.\n"
          ],
          "name": "stdout"
        }
      ]
    },
    {
      "metadata": {
        "id": "o3Hd9d7MJoZx",
        "colab_type": "text"
      },
      "cell_type": "markdown",
      "source": [
        "# 새 섹션"
      ]
    },
    {
      "metadata": {
        "id": "rGmH2Os9Jrjy",
        "colab_type": "text"
      },
      "cell_type": "markdown",
      "source": [
        ""
      ]
    },
    {
      "metadata": {
        "id": "W1ffcd1dJryK",
        "colab_type": "text"
      },
      "cell_type": "markdown",
      "source": [
        ""
      ]
    }
  ]
}