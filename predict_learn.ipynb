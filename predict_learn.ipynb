{
 "cells": [
  {
   "cell_type": "code",
   "execution_count": 1,
   "metadata": {},
   "outputs": [
    {
     "name": "stderr",
     "output_type": "stream",
     "text": [
      "/home/airi/anaconda3/lib/python3.6/site-packages/sklearn/cross_validation.py:41: DeprecationWarning: This module was deprecated in version 0.18 in favor of the model_selection module into which all the refactored classes and functions are moved. Also note that the interface of the new CV iterators are different from that of this module. This module will be removed in 0.20.\n",
      "  \"This module will be removed in 0.20.\", DeprecationWarning)\n"
     ]
    }
   ],
   "source": [
    "import pandas as pd\n",
    "import matplotlib.pyplot as plt\n",
    "import seaborn as sns\n",
    "import numpy as np\n",
    "from scipy.stats import norm\n",
    "from scipy import stats\n",
    "from sklearn.cross_validation import train_test_split\n",
    "from sklearn.cross_validation import cross_val_score\n",
    "from sklearn.metrics import make_scorer, mean_squared_error\n",
    "\n",
    "import warnings\n",
    "warnings.filterwarnings('ignore')\n",
    "%matplotlib inline"
   ]
  },
  {
   "cell_type": "code",
   "execution_count": 2,
   "metadata": {},
   "outputs": [],
   "source": [
    "# 처리해놓은 데이터 로딩\n",
    "train_file = \"./data/train_2.csv\"\n",
    "test_file = \"./data/test_2.csv\"\n",
    "\n",
    "x_train = pd.read_csv(train_file, engine='python')\n",
    "x_test = pd.read_csv(test_file, engine='python')"
   ]
  },
  {
   "cell_type": "code",
   "execution_count": 3,
   "metadata": {},
   "outputs": [],
   "source": [
    "y_train = x_train.SalePrice\n",
    "x_train.drop(['SalePrice'], axis=1, inplace=True)"
   ]
  },
  {
   "cell_type": "code",
   "execution_count": 4,
   "metadata": {},
   "outputs": [
    {
     "data": {
      "text/html": [
       "<div>\n",
       "<style scoped>\n",
       "    .dataframe tbody tr th:only-of-type {\n",
       "        vertical-align: middle;\n",
       "    }\n",
       "\n",
       "    .dataframe tbody tr th {\n",
       "        vertical-align: top;\n",
       "    }\n",
       "\n",
       "    .dataframe thead th {\n",
       "        text-align: right;\n",
       "    }\n",
       "</style>\n",
       "<table border=\"1\" class=\"dataframe\">\n",
       "  <thead>\n",
       "    <tr style=\"text-align: right;\">\n",
       "      <th></th>\n",
       "      <th>1stFlrSF</th>\n",
       "      <th>2ndFlrSF</th>\n",
       "      <th>3SsnPorch</th>\n",
       "      <th>BedroomAbvGr</th>\n",
       "      <th>BsmtFinSF1</th>\n",
       "      <th>BsmtFinSF2</th>\n",
       "      <th>BsmtFullBath</th>\n",
       "      <th>BsmtHalfBath</th>\n",
       "      <th>BsmtUnfSF</th>\n",
       "      <th>EnclosedPorch</th>\n",
       "      <th>...</th>\n",
       "      <th>SaleType_ConLI</th>\n",
       "      <th>SaleType_ConLw</th>\n",
       "      <th>SaleType_New</th>\n",
       "      <th>SaleType_Oth</th>\n",
       "      <th>SaleType_WD</th>\n",
       "      <th>Street_Grvl</th>\n",
       "      <th>Street_Pave</th>\n",
       "      <th>Utilities_AllPub</th>\n",
       "      <th>Utilities_NoSeWa</th>\n",
       "      <th>Utilities_None</th>\n",
       "    </tr>\n",
       "  </thead>\n",
       "  <tbody>\n",
       "    <tr>\n",
       "      <th>0</th>\n",
       "      <td>-0.784689</td>\n",
       "      <td>1.214179</td>\n",
       "      <td>-0.112313</td>\n",
       "      <td>0.251255</td>\n",
       "      <td>0.799403</td>\n",
       "      <td>0.799403</td>\n",
       "      <td>1.129973</td>\n",
       "      <td>-0.251374</td>\n",
       "      <td>-0.547956</td>\n",
       "      <td>-0.423910</td>\n",
       "      <td>...</td>\n",
       "      <td>0</td>\n",
       "      <td>0</td>\n",
       "      <td>0</td>\n",
       "      <td>0</td>\n",
       "      <td>1</td>\n",
       "      <td>0</td>\n",
       "      <td>1</td>\n",
       "      <td>1</td>\n",
       "      <td>0</td>\n",
       "      <td>0</td>\n",
       "    </tr>\n",
       "    <tr>\n",
       "      <th>1</th>\n",
       "      <td>0.403194</td>\n",
       "      <td>-0.859795</td>\n",
       "      <td>-0.112313</td>\n",
       "      <td>0.251255</td>\n",
       "      <td>0.973570</td>\n",
       "      <td>0.973570</td>\n",
       "      <td>-0.833091</td>\n",
       "      <td>3.880135</td>\n",
       "      <td>-0.132294</td>\n",
       "      <td>-0.423910</td>\n",
       "      <td>...</td>\n",
       "      <td>0</td>\n",
       "      <td>0</td>\n",
       "      <td>0</td>\n",
       "      <td>0</td>\n",
       "      <td>1</td>\n",
       "      <td>0</td>\n",
       "      <td>1</td>\n",
       "      <td>1</td>\n",
       "      <td>0</td>\n",
       "      <td>0</td>\n",
       "    </tr>\n",
       "    <tr>\n",
       "      <th>2</th>\n",
       "      <td>-0.569273</td>\n",
       "      <td>1.220996</td>\n",
       "      <td>-0.112313</td>\n",
       "      <td>0.251255</td>\n",
       "      <td>0.610116</td>\n",
       "      <td>0.610116</td>\n",
       "      <td>1.129973</td>\n",
       "      <td>-0.251374</td>\n",
       "      <td>0.167200</td>\n",
       "      <td>-0.423910</td>\n",
       "      <td>...</td>\n",
       "      <td>0</td>\n",
       "      <td>0</td>\n",
       "      <td>0</td>\n",
       "      <td>0</td>\n",
       "      <td>1</td>\n",
       "      <td>0</td>\n",
       "      <td>1</td>\n",
       "      <td>1</td>\n",
       "      <td>0</td>\n",
       "      <td>0</td>\n",
       "    </tr>\n",
       "    <tr>\n",
       "      <th>3</th>\n",
       "      <td>-0.437869</td>\n",
       "      <td>1.155241</td>\n",
       "      <td>-0.112313</td>\n",
       "      <td>0.251255</td>\n",
       "      <td>0.234252</td>\n",
       "      <td>0.234252</td>\n",
       "      <td>1.129973</td>\n",
       "      <td>-0.251374</td>\n",
       "      <td>0.329240</td>\n",
       "      <td>2.903308</td>\n",
       "      <td>...</td>\n",
       "      <td>0</td>\n",
       "      <td>0</td>\n",
       "      <td>0</td>\n",
       "      <td>0</td>\n",
       "      <td>1</td>\n",
       "      <td>0</td>\n",
       "      <td>1</td>\n",
       "      <td>1</td>\n",
       "      <td>0</td>\n",
       "      <td>0</td>\n",
       "    </tr>\n",
       "    <tr>\n",
       "      <th>4</th>\n",
       "      <td>0.098904</td>\n",
       "      <td>1.318031</td>\n",
       "      <td>-0.112313</td>\n",
       "      <td>1.273273</td>\n",
       "      <td>0.760530</td>\n",
       "      <td>0.760530</td>\n",
       "      <td>1.129973</td>\n",
       "      <td>-0.251374</td>\n",
       "      <td>0.256527</td>\n",
       "      <td>-0.423910</td>\n",
       "      <td>...</td>\n",
       "      <td>0</td>\n",
       "      <td>0</td>\n",
       "      <td>0</td>\n",
       "      <td>0</td>\n",
       "      <td>1</td>\n",
       "      <td>0</td>\n",
       "      <td>1</td>\n",
       "      <td>1</td>\n",
       "      <td>0</td>\n",
       "      <td>0</td>\n",
       "    </tr>\n",
       "  </tbody>\n",
       "</table>\n",
       "<p>5 rows × 306 columns</p>\n",
       "</div>"
      ],
      "text/plain": [
       "   1stFlrSF  2ndFlrSF  3SsnPorch  BedroomAbvGr  BsmtFinSF1  BsmtFinSF2  \\\n",
       "0 -0.784689  1.214179  -0.112313      0.251255    0.799403    0.799403   \n",
       "1  0.403194 -0.859795  -0.112313      0.251255    0.973570    0.973570   \n",
       "2 -0.569273  1.220996  -0.112313      0.251255    0.610116    0.610116   \n",
       "3 -0.437869  1.155241  -0.112313      0.251255    0.234252    0.234252   \n",
       "4  0.098904  1.318031  -0.112313      1.273273    0.760530    0.760530   \n",
       "\n",
       "   BsmtFullBath  BsmtHalfBath  BsmtUnfSF  EnclosedPorch       ...        \\\n",
       "0      1.129973     -0.251374  -0.547956      -0.423910       ...         \n",
       "1     -0.833091      3.880135  -0.132294      -0.423910       ...         \n",
       "2      1.129973     -0.251374   0.167200      -0.423910       ...         \n",
       "3      1.129973     -0.251374   0.329240       2.903308       ...         \n",
       "4      1.129973     -0.251374   0.256527      -0.423910       ...         \n",
       "\n",
       "   SaleType_ConLI  SaleType_ConLw  SaleType_New  SaleType_Oth  SaleType_WD  \\\n",
       "0               0               0             0             0            1   \n",
       "1               0               0             0             0            1   \n",
       "2               0               0             0             0            1   \n",
       "3               0               0             0             0            1   \n",
       "4               0               0             0             0            1   \n",
       "\n",
       "   Street_Grvl  Street_Pave  Utilities_AllPub  Utilities_NoSeWa  \\\n",
       "0            0            1                 1                 0   \n",
       "1            0            1                 1                 0   \n",
       "2            0            1                 1                 0   \n",
       "3            0            1                 1                 0   \n",
       "4            0            1                 1                 0   \n",
       "\n",
       "   Utilities_None  \n",
       "0               0  \n",
       "1               0  \n",
       "2               0  \n",
       "3               0  \n",
       "4               0  \n",
       "\n",
       "[5 rows x 306 columns]"
      ]
     },
     "metadata": {},
     "output_type": "display_data"
    },
    {
     "data": {
      "text/html": [
       "<div>\n",
       "<style scoped>\n",
       "    .dataframe tbody tr th:only-of-type {\n",
       "        vertical-align: middle;\n",
       "    }\n",
       "\n",
       "    .dataframe tbody tr th {\n",
       "        vertical-align: top;\n",
       "    }\n",
       "\n",
       "    .dataframe thead th {\n",
       "        text-align: right;\n",
       "    }\n",
       "</style>\n",
       "<table border=\"1\" class=\"dataframe\">\n",
       "  <thead>\n",
       "    <tr style=\"text-align: right;\">\n",
       "      <th></th>\n",
       "      <th>1stFlrSF</th>\n",
       "      <th>2ndFlrSF</th>\n",
       "      <th>3SsnPorch</th>\n",
       "      <th>BedroomAbvGr</th>\n",
       "      <th>BsmtFinSF1</th>\n",
       "      <th>BsmtFinSF2</th>\n",
       "      <th>BsmtFullBath</th>\n",
       "      <th>BsmtHalfBath</th>\n",
       "      <th>BsmtUnfSF</th>\n",
       "      <th>EnclosedPorch</th>\n",
       "      <th>...</th>\n",
       "      <th>SaleType_ConLI</th>\n",
       "      <th>SaleType_ConLw</th>\n",
       "      <th>SaleType_New</th>\n",
       "      <th>SaleType_Oth</th>\n",
       "      <th>SaleType_WD</th>\n",
       "      <th>Street_Grvl</th>\n",
       "      <th>Street_Pave</th>\n",
       "      <th>Utilities_AllPub</th>\n",
       "      <th>Utilities_NoSeWa</th>\n",
       "      <th>Utilities_None</th>\n",
       "    </tr>\n",
       "  </thead>\n",
       "  <tbody>\n",
       "    <tr>\n",
       "      <th>0</th>\n",
       "      <td>-0.648517</td>\n",
       "      <td>-0.859795</td>\n",
       "      <td>-0.112313</td>\n",
       "      <td>-1.016868</td>\n",
       "      <td>0.591574</td>\n",
       "      <td>0.591574</td>\n",
       "      <td>-0.833091</td>\n",
       "      <td>-0.251374</td>\n",
       "      <td>-0.166720</td>\n",
       "      <td>-0.42391</td>\n",
       "      <td>...</td>\n",
       "      <td>0</td>\n",
       "      <td>0</td>\n",
       "      <td>0</td>\n",
       "      <td>0</td>\n",
       "      <td>1</td>\n",
       "      <td>0</td>\n",
       "      <td>1</td>\n",
       "      <td>1</td>\n",
       "      <td>0</td>\n",
       "      <td>0</td>\n",
       "    </tr>\n",
       "    <tr>\n",
       "      <th>1</th>\n",
       "      <td>0.566804</td>\n",
       "      <td>-0.859795</td>\n",
       "      <td>-0.112313</td>\n",
       "      <td>0.251255</td>\n",
       "      <td>0.942008</td>\n",
       "      <td>0.942008</td>\n",
       "      <td>-0.833091</td>\n",
       "      <td>-0.251374</td>\n",
       "      <td>0.118809</td>\n",
       "      <td>-0.42391</td>\n",
       "      <td>...</td>\n",
       "      <td>0</td>\n",
       "      <td>0</td>\n",
       "      <td>0</td>\n",
       "      <td>0</td>\n",
       "      <td>1</td>\n",
       "      <td>0</td>\n",
       "      <td>1</td>\n",
       "      <td>1</td>\n",
       "      <td>0</td>\n",
       "      <td>0</td>\n",
       "    </tr>\n",
       "    <tr>\n",
       "      <th>2</th>\n",
       "      <td>-0.543248</td>\n",
       "      <td>1.119259</td>\n",
       "      <td>-0.112313</td>\n",
       "      <td>0.251255</td>\n",
       "      <td>0.859187</td>\n",
       "      <td>0.859187</td>\n",
       "      <td>-0.833091</td>\n",
       "      <td>-0.251374</td>\n",
       "      <td>-0.603727</td>\n",
       "      <td>-0.42391</td>\n",
       "      <td>...</td>\n",
       "      <td>0</td>\n",
       "      <td>0</td>\n",
       "      <td>0</td>\n",
       "      <td>0</td>\n",
       "      <td>1</td>\n",
       "      <td>0</td>\n",
       "      <td>1</td>\n",
       "      <td>1</td>\n",
       "      <td>0</td>\n",
       "      <td>0</td>\n",
       "    </tr>\n",
       "    <tr>\n",
       "      <th>3</th>\n",
       "      <td>-0.549736</td>\n",
       "      <td>1.103498</td>\n",
       "      <td>-0.112313</td>\n",
       "      <td>0.251255</td>\n",
       "      <td>0.717310</td>\n",
       "      <td>0.717310</td>\n",
       "      <td>-0.833091</td>\n",
       "      <td>-0.251374</td>\n",
       "      <td>-0.041299</td>\n",
       "      <td>-0.42391</td>\n",
       "      <td>...</td>\n",
       "      <td>0</td>\n",
       "      <td>0</td>\n",
       "      <td>0</td>\n",
       "      <td>0</td>\n",
       "      <td>1</td>\n",
       "      <td>0</td>\n",
       "      <td>1</td>\n",
       "      <td>1</td>\n",
       "      <td>0</td>\n",
       "      <td>0</td>\n",
       "    </tr>\n",
       "    <tr>\n",
       "      <th>4</th>\n",
       "      <td>0.447860</td>\n",
       "      <td>-0.859795</td>\n",
       "      <td>-0.112313</td>\n",
       "      <td>-1.016868</td>\n",
       "      <td>0.321268</td>\n",
       "      <td>0.321268</td>\n",
       "      <td>-0.833091</td>\n",
       "      <td>-0.251374</td>\n",
       "      <td>0.830074</td>\n",
       "      <td>-0.42391</td>\n",
       "      <td>...</td>\n",
       "      <td>0</td>\n",
       "      <td>0</td>\n",
       "      <td>0</td>\n",
       "      <td>0</td>\n",
       "      <td>1</td>\n",
       "      <td>0</td>\n",
       "      <td>1</td>\n",
       "      <td>1</td>\n",
       "      <td>0</td>\n",
       "      <td>0</td>\n",
       "    </tr>\n",
       "  </tbody>\n",
       "</table>\n",
       "<p>5 rows × 306 columns</p>\n",
       "</div>"
      ],
      "text/plain": [
       "   1stFlrSF  2ndFlrSF  3SsnPorch  BedroomAbvGr  BsmtFinSF1  BsmtFinSF2  \\\n",
       "0 -0.648517 -0.859795  -0.112313     -1.016868    0.591574    0.591574   \n",
       "1  0.566804 -0.859795  -0.112313      0.251255    0.942008    0.942008   \n",
       "2 -0.543248  1.119259  -0.112313      0.251255    0.859187    0.859187   \n",
       "3 -0.549736  1.103498  -0.112313      0.251255    0.717310    0.717310   \n",
       "4  0.447860 -0.859795  -0.112313     -1.016868    0.321268    0.321268   \n",
       "\n",
       "   BsmtFullBath  BsmtHalfBath  BsmtUnfSF  EnclosedPorch       ...        \\\n",
       "0     -0.833091     -0.251374  -0.166720       -0.42391       ...         \n",
       "1     -0.833091     -0.251374   0.118809       -0.42391       ...         \n",
       "2     -0.833091     -0.251374  -0.603727       -0.42391       ...         \n",
       "3     -0.833091     -0.251374  -0.041299       -0.42391       ...         \n",
       "4     -0.833091     -0.251374   0.830074       -0.42391       ...         \n",
       "\n",
       "   SaleType_ConLI  SaleType_ConLw  SaleType_New  SaleType_Oth  SaleType_WD  \\\n",
       "0               0               0             0             0            1   \n",
       "1               0               0             0             0            1   \n",
       "2               0               0             0             0            1   \n",
       "3               0               0             0             0            1   \n",
       "4               0               0             0             0            1   \n",
       "\n",
       "   Street_Grvl  Street_Pave  Utilities_AllPub  Utilities_NoSeWa  \\\n",
       "0            0            1                 1                 0   \n",
       "1            0            1                 1                 0   \n",
       "2            0            1                 1                 0   \n",
       "3            0            1                 1                 0   \n",
       "4            0            1                 1                 0   \n",
       "\n",
       "   Utilities_None  \n",
       "0               0  \n",
       "1               0  \n",
       "2               0  \n",
       "3               0  \n",
       "4               0  \n",
       "\n",
       "[5 rows x 306 columns]"
      ]
     },
     "metadata": {},
     "output_type": "display_data"
    }
   ],
   "source": [
    "display(x_train.head())\n",
    "display(x_test.head())"
   ]
  },
  {
   "cell_type": "markdown",
   "metadata": {},
   "source": [
    "- - -\n",
    "### log-transformation\n",
    " saleprice 정규화를 위한 log-transformation"
   ]
  },
  {
   "cell_type": "code",
   "execution_count": 5,
   "metadata": {},
   "outputs": [
    {
     "data": {
      "image/png": "[encoded data removed]",
      "text/plain": [
       "<matplotlib.figure.Figure at 0x7ff201999358>"
      ]
     },
     "metadata": {},
     "output_type": "display_data"
    }
   ],
   "source": [
    "y_train_log = np.log(y_train)\n",
    "\n",
    "plt.figure(figsize=(10,5))\n",
    "plt.subplot(1,2,1)\n",
    "sns.distplot(y_train, bins=50)\n",
    "plt.title('Original Data')\n",
    "plt.xlabel('Sale Price')\n",
    "\n",
    "plt.subplot(1,2,2)\n",
    "sns.distplot(y_train_log, bins=50)\n",
    "plt.title('Natural Log of Data')\n",
    "plt.xlabel('Natural Log of Sale Price')\n",
    "plt.tight_layout()"
   ]
  },
  {
   "cell_type": "markdown",
   "metadata": {},
   "source": [
    "### score 도출해주는 함수 선언"
   ]
  },
  {
   "cell_type": "code",
   "execution_count": 6,
   "metadata": {},
   "outputs": [],
   "source": [
    "def rmsle(y, y_pred):\n",
    "    return np.sqrt(mean_squared_error(y, y_pred))"
   ]
  },
  {
   "cell_type": "markdown",
   "metadata": {},
   "source": [
    "- - -\n",
    "# data 정리\n",
    "- - -"
   ]
  },
  {
   "cell_type": "code",
   "execution_count": 7,
   "metadata": {},
   "outputs": [],
   "source": [
    "# predict_cols = list(predict_cols)\n",
    "# predict_cols.remove('SalePrice')"
   ]
  },
  {
   "cell_type": "markdown",
   "metadata": {},
   "source": [
    "- - -\n",
    "# tensorflow model 정의"
   ]
  },
  {
   "cell_type": "code",
   "execution_count": 10,
   "metadata": {},
   "outputs": [],
   "source": [
    "import tensorflow as tf"
   ]
  },
  {
   "cell_type": "code",
   "execution_count": 11,
   "metadata": {},
   "outputs": [],
   "source": [
    "num_unit = 100"
   ]
  },
  {
   "cell_type": "code",
   "execution_count": 27,
   "metadata": {},
   "outputs": [],
   "source": [
    "x1 = tf.placeholder(tf.float32, [None, x_train.shape[1]])\n",
    "W1 = tf.Variable(tf.constant(1., shape = [x_train.shape[1], num_unit]))\n",
    "b1 = tf.Variable(tf.constant(1., shape = [num_unit]))\n",
    "hidden1 = tf.nn.relu(tf.matmul(x1, W1) + b1)\n",
    "\n",
    "keep_prob = tf.placeholder(tf.float32)\n",
    "hidden1_drop = tf.nn.dropout(hidden1, keep_prob)"
   ]
  },
  {
   "cell_type": "code",
   "execution_count": 28,
   "metadata": {},
   "outputs": [],
   "source": [
    "W0 = tf.Variable(tf.constant(1., shape = [num_unit, 1]))\n",
    "b0 = tf.Variable(tf.constant(1., shape = [1]))\n",
    "k = tf.matmul(hidden1_drop, W0) + b0"
   ]
  },
  {
   "cell_type": "code",
   "execution_count": 31,
   "metadata": {},
   "outputs": [
    {
     "name": "stdout",
     "output_type": "stream",
     "text": [
      "[208500. 181500. 223500. ... 266500. 142125. 147500.]\n"
     ]
    }
   ],
   "source": [
    "print (sess.run(y_, feed_dict={y_: y_train}))"
   ]
  },
  {
   "cell_type": "code",
   "execution_count": 32,
   "metadata": {},
   "outputs": [],
   "source": [
    "y_ = tf.placeholder(tf.float32, [None])\n",
    "cost = tf.reduce_mean((y_ - k))\n",
    "train_step = tf.train.AdamOptimizer(0.0001).minimize(cost)"
   ]
  },
  {
   "cell_type": "code",
   "execution_count": 33,
   "metadata": {
    "scrolled": true
   },
   "outputs": [
    {
     "name": "stdout",
     "output_type": "stream",
     "text": [
      "Training\n",
      "\n",
      "b is  176779.73\n",
      "b is  176702.78\n",
      "b is  176618.1\n",
      "b is  176548.98\n",
      "b is  176464.12\n",
      "b is  176363.7\n",
      "b is  176293.8\n",
      "b is  176206.81\n",
      "b is  176090.88\n",
      "b is  175979.9\n"
     ]
    }
   ],
   "source": [
    "print (\"Training\\n\")\n",
    "sess = tf.Session()\n",
    "init = tf.global_variables_initializer() #.run()\n",
    "sess.run(init)\n",
    "for _ in range(1000):\n",
    "    # 1000번씩, 전체 데이타에서 100개씩 뽑아서 트레이닝을 함.  \n",
    "    sess.run(train_step, feed_dict={x1: x_train, y_: y_train, keep_prob:0.3})\n",
    "    if _ % 100 == 0 :\n",
    "        print ('b is ',sess.run(cost, feed_dict={x1: x_train, y_: y_train, keep_prob:0.3}))\n"
   ]
  },
  {
   "cell_type": "code",
   "execution_count": 25,
   "metadata": {},
   "outputs": [
    {
     "name": "stdout",
     "output_type": "stream",
     "text": [
      "Testing model\n",
      "[0.10187223 0.10206233 0.10190908 0.10208846 0.10201235 0.10217702\n",
      " 0.10196162 0.10195411 0.10219029 0.10205499 0.10202605 0.1019238\n",
      " 0.10208867 0.10230825 0.10221057 0.10210691 0.10197137 0.10196734\n",
      " 0.10212431 0.1021738  0.10187387 0.10203197 0.10188811 0.10187359\n",
      " 0.1020342  0.10197556 0.10208049 0.10186438 0.10210623 0.10197684\n",
      " 0.10188925 0.10186858 0.10206302 0.10201637 0.10188034 0.10198873\n",
      " 0.10191794 0.10204676 0.10215309 0.10207035 0.10190247 0.10177895\n",
      " 0.1020276  0.1020267  0.10182046 0.10217364 0.10205953 0.1020922\n",
      " 0.10180949 0.10198287 0.10191715 0.10202885 0.10197583 0.10195958\n",
      " 0.10184864 0.10184216 0.10190079 0.10182668 0.10195766 0.10185167\n",
      " 0.10186696 0.10205936 0.10212657 0.10188865 0.10189988 0.10197603\n",
      " 0.10183423 0.10201858 0.10187656 0.10209247 0.10217207 0.10179152\n",
      " 0.10197549 0.10187174 0.10184045 0.10206372 0.10208231 0.10208356\n",
      " 0.10198493 0.10198936 0.10207403 0.1018817  0.10191091 0.10204633\n",
      " 0.101918   0.10201489 0.10205963 0.10207415 0.10196891 0.1017307\n",
      " 0.10215687 0.10188312 0.10199398 0.10208628 0.10230128 0.1020481\n",
      " 0.10193115 0.10206497 0.10200926 0.10182641]\n"
     ]
    }
   ],
   "source": [
    "print (\"Testing model\")\n",
    "# Test trained model\n",
    "print(sess.run(b1, feed_dict={x1: x_train, keep_prob : 0.5}))"
   ]
  },
  {
   "cell_type": "code",
   "execution_count": null,
   "metadata": {},
   "outputs": [],
   "source": []
  },
  {
   "cell_type": "code",
   "execution_count": null,
   "metadata": {},
   "outputs": [],
   "source": []
  },
  {
   "cell_type": "code",
   "execution_count": null,
   "metadata": {},
   "outputs": [],
   "source": []
  },
  {
   "cell_type": "code",
   "execution_count": null,
   "metadata": {},
   "outputs": [],
   "source": []
  },
  {
   "cell_type": "code",
   "execution_count": null,
   "metadata": {},
   "outputs": [],
   "source": []
  },
  {
   "cell_type": "markdown",
   "metadata": {},
   "source": [
    "- - -\n",
    "# keras를 활용한 DNN 학습"
   ]
  },
  {
   "cell_type": "code",
   "execution_count": null,
   "metadata": {},
   "outputs": [],
   "source": [
    "import tensorflow as tf\n",
    "from keras.models import Sequential\n",
    "from keras import metrics\n",
    "from keras.layers import Dense, Dropout\n",
    "from sklearn.metrics import make_scorer, mean_squared_error"
   ]
  },
  {
   "cell_type": "markdown",
   "metadata": {},
   "source": [
    "### data 정의"
   ]
  },
  {
   "cell_type": "code",
   "execution_count": null,
   "metadata": {},
   "outputs": [],
   "source": [
    "from sklearn.model_selection import train_test_split\n",
    "\n",
    "x_train_np = x_train.as_matrix()\n",
    "# y_train_np = y_train_log.as_matrix()\n",
    "x_test_np = x_test.as_matrix()"
   ]
  },
  {
   "cell_type": "markdown",
   "metadata": {},
   "source": [
    "### model 정의"
   ]
  },
  {
   "cell_type": "code",
   "execution_count": null,
   "metadata": {},
   "outputs": [],
   "source": [
    "def create_model():\n",
    "    # create model\n",
    "    model = Sequential()\n",
    "    model.add(Dense(200, input_dim=x_train_np.shape[1], activation='relu'))\n",
    "    tf.keras.layers.Dropout(0.2)\n",
    "    model.add(Dense(1))\n",
    "    # Compile model\n",
    "    model.compile(optimizer ='adam', loss = 'mean_squared_error', \n",
    "              metrics =[metrics.mae])\n",
    "    return model"
   ]
  },
  {
   "cell_type": "code",
   "execution_count": null,
   "metadata": {},
   "outputs": [],
   "source": [
    "model = create_model()"
   ]
  },
  {
   "cell_type": "code",
   "execution_count": null,
   "metadata": {
    "scrolled": true
   },
   "outputs": [],
   "source": [
    "for _ in range(0,10) :\n",
    "    X_train, X_test, y_train, y_test = train_test_split(x_train_np, y_train_log, test_size=0.33, random_state=7)\n",
    "    history = model.fit(X_train, y_train, validation_data=(X_test,y_test), epochs=1000, batch_size=50)"
   ]
  },
  {
   "cell_type": "code",
   "execution_count": null,
   "metadata": {},
   "outputs": [],
   "source": [
    "# 처리해놓은 데이터 로딩\n",
    "train_file = \"./data/train_2.csv\"\n",
    "test_file = \"./data/test_2.csv\"\n",
    "\n",
    "x_train = pd.read_csv(train_file, engine='python')\n",
    "x_test = pd.read_csv(test_file, engine='python')\n",
    "\n",
    "y_train = x_train.SalePrice\n",
    "x_train.drop(['SalePrice'], axis=1, inplace=True)"
   ]
  },
  {
   "cell_type": "code",
   "execution_count": null,
   "metadata": {},
   "outputs": [],
   "source": [
    "prediction = model.predict(x_test)\n",
    "\n",
    "y_pred = model.predict(X_test)\n",
    "display(y_pred.shape)\n",
    "display(y_test.shape)\n",
    "\n",
    "plt.figure(figsize=(10, 5))\n",
    "plt.scatter(y_test, y_pred, s=20)\n",
    "plt.title('Predicted vs. Actual')\n",
    "plt.xlabel('Actual Sale Price')\n",
    "plt.ylabel('Predicted Sale Price')\n",
    "\n",
    "plt.plot([min(y_test), max(y_test)], [min(y_test), max(y_test)])\n",
    "plt.tight_layout()\n",
    "print(rmsle(y_test,y_pred))"
   ]
  },
  {
   "cell_type": "code",
   "execution_count": null,
   "metadata": {},
   "outputs": [],
   "source": [
    "y_test.shape"
   ]
  },
  {
   "cell_type": "code",
   "execution_count": null,
   "metadata": {},
   "outputs": [],
   "source": [
    "submission = pd.DataFrame()\n",
    "submission['Id'] = x_test.index+1461\n",
    "submission['SalePrice'] = np.exp(prediction)\n",
    "print(submission)"
   ]
  },
  {
   "cell_type": "code",
   "execution_count": null,
   "metadata": {},
   "outputs": [],
   "source": [
    "submission.to_csv('./output_csv/kerasMNN_all_normalize_skewed.csv', index=False)"
   ]
  },
  {
   "cell_type": "code",
   "execution_count": null,
   "metadata": {},
   "outputs": [],
   "source": [
    "from sklearn.cross_validation import train_test_split\n",
    "from sklearn.cross_validation import cross_val_score\n",
    "from sklearn.metrics import make_scorer, mean_squared_error\n",
    "\n",
    "X_train1, X_test1, y_train1, y_test1 = train_test_split(x_train, y_train_log)\n",
    "clf = RandomForestRegressor(n_estimators=1000, n_jobs=-100, max_features=300)\n",
    "\n",
    "clf.fit(X_train1, y_train1)\n",
    "y_pred = clf.predict(X_test1)\n",
    "\n",
    "plt.figure(figsize=(10, 5))\n",
    "plt.scatter(y_test1, y_pred, s=20)\n",
    "plt.title('Predicted vs. Actual')\n",
    "plt.xlabel('Actual Sale Price')\n",
    "plt.ylabel('Predicted Sale Price')\n",
    "\n",
    "plt.plot([min(y_test1), max(y_test1)], [min(y_test1), max(y_test1)])\n",
    "plt.tight_layout()\n",
    "print(rmsle(y_test1,y_pred))"
   ]
  },
  {
   "cell_type": "code",
   "execution_count": null,
   "metadata": {},
   "outputs": [],
   "source": [
    "clf.fit(x_train, y_train_log)"
   ]
  },
  {
   "cell_type": "code",
   "execution_count": null,
   "metadata": {},
   "outputs": [],
   "source": [
    "y_pred = clf.predict(data_test)\n",
    "y_pred = np.exp(y_pred)\n",
    "y_pred"
   ]
  },
  {
   "cell_type": "code",
   "execution_count": null,
   "metadata": {},
   "outputs": [],
   "source": [
    "my_submission = pd.DataFrame({'Id': data_test.index+2, 'SalePrice': y_pred})\n",
    "# you could use any filename. We choose submission here\n",
    "my_submission.to_csv('randomforest_all_normalize_skewed.csv', index=False)"
   ]
  },
  {
   "cell_type": "code",
   "execution_count": null,
   "metadata": {},
   "outputs": [],
   "source": [
    "data_train.head()"
   ]
  },
  {
   "cell_type": "code",
   "execution_count": null,
   "metadata": {},
   "outputs": [],
   "source": [
    "import xgboost as xgb\n",
    "\n",
    "X_train1, X_test1, y_train1, y_test1 = train_test_split(x_train, y_train_log)\n",
    "\n",
    "model_xgb = xgb.XGBRegressor(colsample_bytree=0.4603, gamma=0.0468, \n",
    "                             learning_rate=0.05, max_depth=2, \n",
    "                             min_child_weight=1.7817, n_estimators=1500,\n",
    "                             reg_alpha=0.4640, reg_lambda=0.8571,\n",
    "                             subsample=0.5213, silent=1,\n",
    "                             random_state =7, nthread = -1)\n",
    "\n",
    "model_xgb.fit(X_train1, y_train1)\n",
    "y_pred = model_xgb.predict(X_test1)\n",
    "\n",
    "# y_pred = np.exp(y_pred)\n",
    "\n",
    "\n",
    "plt.figure(figsize=(10, 5))\n",
    "plt.scatter(y_test1, y_pred, s=20)\n",
    "plt.title('Predicted vs. Actual')\n",
    "plt.xlabel('Actual Sale Price')\n",
    "plt.ylabel('Predicted Sale Price')\n",
    "\n",
    "plt.plot([min(y_test1), max(y_test1)], [min(y_test1), max(y_test1)])\n",
    "plt.tight_layout()\n",
    "print(rmsle(y_test1,y_pred))"
   ]
  },
  {
   "cell_type": "code",
   "execution_count": null,
   "metadata": {},
   "outputs": [],
   "source": [
    "x_test.shape"
   ]
  },
  {
   "cell_type": "code",
   "execution_count": null,
   "metadata": {},
   "outputs": [],
   "source": [
    "model_xgb.fit(x_train, y_train_log)\n",
    "y_pred = model_xgb.predict(x_test)\n",
    "y_pred = np.exp(y_pred)\n",
    "print(y_pred)\n",
    "my_submission = pd.DataFrame({'Id': x_test.index+1461, 'SalePrice': y_pred})\n",
    "# you could use any filename. We choose submission here\n",
    "my_submission.to_csv('./output_csv/xgb_all_normalize_skewed.csv', index=False)"
   ]
  },
  {
   "cell_type": "code",
   "execution_count": null,
   "metadata": {},
   "outputs": [],
   "source": [
    "import tensorflow as tf\n",
    "from sklearn.cross_validation import train_test_split"
   ]
  },
  {
   "cell_type": "code",
   "execution_count": null,
   "metadata": {},
   "outputs": [],
   "source": [
    "COLUMNS = data_train.keys()\n",
    "COLUMNS = COLUMNS.drop('Exterior1st_Wd Sdng')\n",
    "COLUMNS = COLUMNS.drop('Exterior2nd_Brk Cmn')\n",
    "COLUMNS = COLUMNS.drop('Exterior2nd_Wd Sdng')\n",
    "COLUMNS = COLUMNS.drop('Exterior2nd_Wd Shng')\n",
    "COLUMNS = COLUMNS.drop('MSZoning_C (all)')\n",
    "COLUMNS = COLUMNS.drop('RoofMatl_Tar&Grv')\n",
    "\n",
    "\n",
    "FEATURES = data_train.keys()\n",
    "FEATURES = FEATURES.drop('Exterior1st_Wd Sdng')\n",
    "FEATURES = FEATURES.drop('Exterior2nd_Brk Cmn')\n",
    "FEATURES = FEATURES.drop('Exterior2nd_Wd Sdng')\n",
    "FEATURES = FEATURES.drop('Exterior2nd_Wd Shng')\n",
    "FEATURES = FEATURES.drop('MSZoning_C (all)')\n",
    "FEATURES = FEATURES.drop('RoofMatl_Tar&Grv')\n",
    "\n",
    "#COLUMNS = COLUMNS.drop('')\n",
    "#FEATURES = FEATURES.drop('')\n",
    "\n",
    "\n",
    "\n",
    "LABEL = \"SalePrice\"\n"
   ]
  },
  {
   "cell_type": "code",
   "execution_count": null,
   "metadata": {},
   "outputs": [],
   "source": [
    "# Columns for tensorflow\n",
    "feature_cols = [tf.contrib.layers.real_valued_column(k) for k in FEATURES]\n",
    "\n",
    "# Training set and Prediction set with the features to predict\n",
    "training_set = data_train[COLUMNS]\n",
    "prediction_set = data_train.SalePrice\n",
    "\n",
    "# Train and Test \n",
    "x_train, x_test, y_train, y_test = train_test_split(training_set[FEATURES] , prediction_set, test_size=0.33, random_state=42)\n",
    "y_train = pd.DataFrame(y_train, columns = [LABEL])\n",
    "training_set = pd.DataFrame(x_train, columns = FEATURES).merge(y_train, left_index = True, right_index = True)\n",
    "training_set.head()\n",
    "\n",
    "# # Training for submission\n",
    "# training_sub = training_set[col_train]"
   ]
  },
  {
   "cell_type": "code",
   "execution_count": null,
   "metadata": {},
   "outputs": [],
   "source": [
    "# Same thing but for the test set\n",
    "y_test = pd.DataFrame(y_test, columns = [LABEL])\n",
    "testing_set = pd.DataFrame(x_test, columns = FEATURES).merge(y_test, left_index = True, right_index = True)\n",
    "testing_set.head()\n",
    "y_test.head()"
   ]
  },
  {
   "cell_type": "code",
   "execution_count": null,
   "metadata": {},
   "outputs": [],
   "source": [
    "# Model\n",
    "tf.logging.set_verbosity(tf.logging.ERROR)\n",
    "regressor = tf.contrib.learn.DNNRegressor(feature_columns=feature_cols, \n",
    "                                          activation_fn = tf.nn.relu, hidden_units=[200, 100, 50, 25, 12])#,\n",
    "                                         #optimizer = tf.train.GradientDescentOptimizer( learning_rate= 0.1 ))"
   ]
  },
  {
   "cell_type": "code",
   "execution_count": null,
   "metadata": {},
   "outputs": [],
   "source": [
    "# Reset the index of training\n",
    "training_set.reset_index(drop = True, inplace =True)"
   ]
  },
  {
   "cell_type": "code",
   "execution_count": null,
   "metadata": {},
   "outputs": [],
   "source": [
    "def input_fn(data_set, pred = False):\n",
    "    \n",
    "    if pred == False:\n",
    "        \n",
    "        feature_cols = {k: tf.constant(data_set[k].values) for k in FEATURES}\n",
    "        labels = tf.constant(data_set[LABEL].values)\n",
    "        \n",
    "        return feature_cols, labels\n",
    "\n",
    "    if pred == True:\n",
    "        feature_cols = {k: tf.constant(data_set[k].values) for k in FEATURES}\n",
    "        \n",
    "        return feature_cols"
   ]
  },
  {
   "cell_type": "code",
   "execution_count": null,
   "metadata": {},
   "outputs": [],
   "source": [
    "# Deep Neural Network Regressor with the training set which contain the data split by train test split\n",
    "regressor.fit(input_fn=lambda: input_fn(data_train), steps=2000)"
   ]
  },
  {
   "cell_type": "code",
   "execution_count": null,
   "metadata": {},
   "outputs": [],
   "source": [
    "# Evaluation on the test set created by train_test_split\n",
    "ev = regressor.evaluate(input_fn=lambda: input_fn(data_test), steps=1)"
   ]
  },
  {
   "cell_type": "code",
   "execution_count": null,
   "metadata": {},
   "outputs": [],
   "source": [
    "# Display the score on the testing set\n",
    "# 0.002X in average\n",
    "loss_score1 = ev[\"loss\"]\n",
    "print(\"Final Loss on the testing set: {0:f}\".format(loss_score1))"
   ]
  },
  {
   "cell_type": "code",
   "execution_count": null,
   "metadata": {},
   "outputs": [],
   "source": [
    "import itertools\n",
    "# Predictions\n",
    "y = regressor.predict(input_fn=lambda: input_fn(data_test))\n",
    "predictions = list(itertools.islice(y, data_test.shape[0]))\n",
    "predictions[0]"
   ]
  },
  {
   "cell_type": "code",
   "execution_count": null,
   "metadata": {},
   "outputs": [],
   "source": [
    "my_submission = pd.DataFrame({'Id': data_test.index+2, 'SalePrice': predictions})\n",
    "# you could use any filename. We choose submission here\n",
    "my_submission.to_csv('tensor_all_normalize_skewed.csv', index=False)"
   ]
  }
 ],
 "metadata": {
  "kernelspec": {
   "display_name": "Python 3",
   "language": "python",
   "name": "python3"
  },
  "language_info": {
   "codemirror_mode": {
    "name": "ipython",
    "version": 3
   },
   "file_extension": ".py",
   "mimetype": "text/x-python",
   "name": "python",
   "nbconvert_exporter": "python",
   "pygments_lexer": "ipython3",
   "version": "3.6.4"
  }
 },
 "nbformat": 4,
 "nbformat_minor": 2
}
