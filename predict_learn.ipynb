{
 "cells": [
  {
   "cell_type": "markdown",
   "metadata": {},
   "source": [
    "# 예측 모델\n",
    " > ## 1. MLP(hidden layer 1개, tensorflow)\n",
    " ## 2. MLP(hidden layer 2개, tensorflow)\n",
    " ## 3. MLP, DNN(keras)\n",
    " ## 4. Randomforest\n",
    " ## 5. XGBoost\n",
    " ## 6. LightGBM\n",
    " ## 7. Lasso\n",
    " ## 8. ElasticNet"
   ]
  },
  {
   "cell_type": "code",
   "execution_count": 1,
   "metadata": {},
   "outputs": [
    {
     "name": "stderr",
     "output_type": "stream",
     "text": [
      "/home/airi/anaconda3/lib/python3.6/site-packages/sklearn/cross_validation.py:41: DeprecationWarning: This module was deprecated in version 0.18 in favor of the model_selection module into which all the refactored classes and functions are moved. Also note that the interface of the new CV iterators are different from that of this module. This module will be removed in 0.20.\n",
      "  \"This module will be removed in 0.20.\", DeprecationWarning)\n"
     ]
    }
   ],
   "source": [
    "import pandas as pd\n",
    "import matplotlib.pyplot as plt\n",
    "import seaborn as sns\n",
    "import numpy as np\n",
    "from scipy.stats import norm\n",
    "from scipy import stats\n",
    "from sklearn.cross_validation import train_test_split\n",
    "from sklearn.cross_validation import cross_val_score\n",
    "from sklearn.metrics import make_scorer, mean_squared_error\n",
    "\n",
    "import warnings\n",
    "warnings.filterwarnings('ignore')\n",
    "%matplotlib inline"
   ]
  },
  {
   "cell_type": "code",
   "execution_count": 2,
   "metadata": {},
   "outputs": [],
   "source": [
    "# 처리해놓은 데이터 로딩\n",
    "train_file = \"./data/train_2.csv\"\n",
    "test_file = \"./data/test_2.csv\"\n",
    "\n",
    "x_train = pd.read_csv(train_file, engine='python')\n",
    "x_test = pd.read_csv(test_file, engine='python')"
   ]
  },
  {
   "cell_type": "code",
   "execution_count": 3,
   "metadata": {},
   "outputs": [],
   "source": [
    "y_train = x_train.SalePrice\n",
    "x_train.drop(['SalePrice'], axis=1, inplace=True)"
   ]
  },
  {
   "cell_type": "code",
   "execution_count": 4,
   "metadata": {},
   "outputs": [
    {
     "data": {
      "text/html": [
       "<div>\n",
       "<style scoped>\n",
       "    .dataframe tbody tr th:only-of-type {\n",
       "        vertical-align: middle;\n",
       "    }\n",
       "\n",
       "    .dataframe tbody tr th {\n",
       "        vertical-align: top;\n",
       "    }\n",
       "\n",
       "    .dataframe thead th {\n",
       "        text-align: right;\n",
       "    }\n",
       "</style>\n",
       "<table border=\"1\" class=\"dataframe\">\n",
       "  <thead>\n",
       "    <tr style=\"text-align: right;\">\n",
       "      <th></th>\n",
       "      <th>1stFlrSF</th>\n",
       "      <th>2ndFlrSF</th>\n",
       "      <th>3SsnPorch</th>\n",
       "      <th>BedroomAbvGr</th>\n",
       "      <th>BsmtFullBath</th>\n",
       "      <th>BsmtHalfBath</th>\n",
       "      <th>BsmtUnfSF</th>\n",
       "      <th>EnclosedPorch</th>\n",
       "      <th>Fireplaces</th>\n",
       "      <th>FullBath</th>\n",
       "      <th>...</th>\n",
       "      <th>SaleType_ConLI</th>\n",
       "      <th>SaleType_ConLw</th>\n",
       "      <th>SaleType_New</th>\n",
       "      <th>SaleType_Oth</th>\n",
       "      <th>SaleType_WD</th>\n",
       "      <th>Street_Grvl</th>\n",
       "      <th>Street_Pave</th>\n",
       "      <th>Utilities_AllPub</th>\n",
       "      <th>Utilities_NoSeWa</th>\n",
       "      <th>Utilities_None</th>\n",
       "    </tr>\n",
       "  </thead>\n",
       "  <tbody>\n",
       "    <tr>\n",
       "      <th>0</th>\n",
       "      <td>-0.784689</td>\n",
       "      <td>1.214179</td>\n",
       "      <td>-0.112313</td>\n",
       "      <td>0.251255</td>\n",
       "      <td>1.129973</td>\n",
       "      <td>-0.251374</td>\n",
       "      <td>-0.547956</td>\n",
       "      <td>-0.423910</td>\n",
       "      <td>-0.979803</td>\n",
       "      <td>0.810093</td>\n",
       "      <td>...</td>\n",
       "      <td>0</td>\n",
       "      <td>0</td>\n",
       "      <td>0</td>\n",
       "      <td>0</td>\n",
       "      <td>1</td>\n",
       "      <td>0</td>\n",
       "      <td>1</td>\n",
       "      <td>1</td>\n",
       "      <td>0</td>\n",
       "      <td>0</td>\n",
       "    </tr>\n",
       "    <tr>\n",
       "      <th>1</th>\n",
       "      <td>0.403194</td>\n",
       "      <td>-0.859795</td>\n",
       "      <td>-0.112313</td>\n",
       "      <td>0.251255</td>\n",
       "      <td>-0.833091</td>\n",
       "      <td>3.880135</td>\n",
       "      <td>-0.132294</td>\n",
       "      <td>-0.423910</td>\n",
       "      <td>0.751112</td>\n",
       "      <td>0.810093</td>\n",
       "      <td>...</td>\n",
       "      <td>0</td>\n",
       "      <td>0</td>\n",
       "      <td>0</td>\n",
       "      <td>0</td>\n",
       "      <td>1</td>\n",
       "      <td>0</td>\n",
       "      <td>1</td>\n",
       "      <td>1</td>\n",
       "      <td>0</td>\n",
       "      <td>0</td>\n",
       "    </tr>\n",
       "    <tr>\n",
       "      <th>2</th>\n",
       "      <td>-0.569273</td>\n",
       "      <td>1.220996</td>\n",
       "      <td>-0.112313</td>\n",
       "      <td>0.251255</td>\n",
       "      <td>1.129973</td>\n",
       "      <td>-0.251374</td>\n",
       "      <td>0.167200</td>\n",
       "      <td>-0.423910</td>\n",
       "      <td>0.751112</td>\n",
       "      <td>0.810093</td>\n",
       "      <td>...</td>\n",
       "      <td>0</td>\n",
       "      <td>0</td>\n",
       "      <td>0</td>\n",
       "      <td>0</td>\n",
       "      <td>1</td>\n",
       "      <td>0</td>\n",
       "      <td>1</td>\n",
       "      <td>1</td>\n",
       "      <td>0</td>\n",
       "      <td>0</td>\n",
       "    </tr>\n",
       "    <tr>\n",
       "      <th>3</th>\n",
       "      <td>-0.437869</td>\n",
       "      <td>1.155241</td>\n",
       "      <td>-0.112313</td>\n",
       "      <td>0.251255</td>\n",
       "      <td>1.129973</td>\n",
       "      <td>-0.251374</td>\n",
       "      <td>0.329240</td>\n",
       "      <td>2.903308</td>\n",
       "      <td>0.751112</td>\n",
       "      <td>-1.027091</td>\n",
       "      <td>...</td>\n",
       "      <td>0</td>\n",
       "      <td>0</td>\n",
       "      <td>0</td>\n",
       "      <td>0</td>\n",
       "      <td>1</td>\n",
       "      <td>0</td>\n",
       "      <td>1</td>\n",
       "      <td>1</td>\n",
       "      <td>0</td>\n",
       "      <td>0</td>\n",
       "    </tr>\n",
       "    <tr>\n",
       "      <th>4</th>\n",
       "      <td>0.098904</td>\n",
       "      <td>1.318031</td>\n",
       "      <td>-0.112313</td>\n",
       "      <td>1.273273</td>\n",
       "      <td>1.129973</td>\n",
       "      <td>-0.251374</td>\n",
       "      <td>0.256527</td>\n",
       "      <td>-0.423910</td>\n",
       "      <td>0.751112</td>\n",
       "      <td>0.810093</td>\n",
       "      <td>...</td>\n",
       "      <td>0</td>\n",
       "      <td>0</td>\n",
       "      <td>0</td>\n",
       "      <td>0</td>\n",
       "      <td>1</td>\n",
       "      <td>0</td>\n",
       "      <td>1</td>\n",
       "      <td>1</td>\n",
       "      <td>0</td>\n",
       "      <td>0</td>\n",
       "    </tr>\n",
       "  </tbody>\n",
       "</table>\n",
       "<p>5 rows × 303 columns</p>\n",
       "</div>"
      ],
      "text/plain": [
       "   1stFlrSF  2ndFlrSF  3SsnPorch  BedroomAbvGr  BsmtFullBath  BsmtHalfBath  \\\n",
       "0 -0.784689  1.214179  -0.112313      0.251255      1.129973     -0.251374   \n",
       "1  0.403194 -0.859795  -0.112313      0.251255     -0.833091      3.880135   \n",
       "2 -0.569273  1.220996  -0.112313      0.251255      1.129973     -0.251374   \n",
       "3 -0.437869  1.155241  -0.112313      0.251255      1.129973     -0.251374   \n",
       "4  0.098904  1.318031  -0.112313      1.273273      1.129973     -0.251374   \n",
       "\n",
       "   BsmtUnfSF  EnclosedPorch  Fireplaces  FullBath       ...        \\\n",
       "0  -0.547956      -0.423910   -0.979803  0.810093       ...         \n",
       "1  -0.132294      -0.423910    0.751112  0.810093       ...         \n",
       "2   0.167200      -0.423910    0.751112  0.810093       ...         \n",
       "3   0.329240       2.903308    0.751112 -1.027091       ...         \n",
       "4   0.256527      -0.423910    0.751112  0.810093       ...         \n",
       "\n",
       "   SaleType_ConLI  SaleType_ConLw  SaleType_New  SaleType_Oth  SaleType_WD  \\\n",
       "0               0               0             0             0            1   \n",
       "1               0               0             0             0            1   \n",
       "2               0               0             0             0            1   \n",
       "3               0               0             0             0            1   \n",
       "4               0               0             0             0            1   \n",
       "\n",
       "   Street_Grvl  Street_Pave  Utilities_AllPub  Utilities_NoSeWa  \\\n",
       "0            0            1                 1                 0   \n",
       "1            0            1                 1                 0   \n",
       "2            0            1                 1                 0   \n",
       "3            0            1                 1                 0   \n",
       "4            0            1                 1                 0   \n",
       "\n",
       "   Utilities_None  \n",
       "0               0  \n",
       "1               0  \n",
       "2               0  \n",
       "3               0  \n",
       "4               0  \n",
       "\n",
       "[5 rows x 303 columns]"
      ]
     },
     "metadata": {},
     "output_type": "display_data"
    },
    {
     "data": {
      "text/html": [
       "<div>\n",
       "<style scoped>\n",
       "    .dataframe tbody tr th:only-of-type {\n",
       "        vertical-align: middle;\n",
       "    }\n",
       "\n",
       "    .dataframe tbody tr th {\n",
       "        vertical-align: top;\n",
       "    }\n",
       "\n",
       "    .dataframe thead th {\n",
       "        text-align: right;\n",
       "    }\n",
       "</style>\n",
       "<table border=\"1\" class=\"dataframe\">\n",
       "  <thead>\n",
       "    <tr style=\"text-align: right;\">\n",
       "      <th></th>\n",
       "      <th>1stFlrSF</th>\n",
       "      <th>2ndFlrSF</th>\n",
       "      <th>3SsnPorch</th>\n",
       "      <th>BedroomAbvGr</th>\n",
       "      <th>BsmtFullBath</th>\n",
       "      <th>BsmtHalfBath</th>\n",
       "      <th>BsmtUnfSF</th>\n",
       "      <th>EnclosedPorch</th>\n",
       "      <th>Fireplaces</th>\n",
       "      <th>FullBath</th>\n",
       "      <th>...</th>\n",
       "      <th>SaleType_ConLI</th>\n",
       "      <th>SaleType_ConLw</th>\n",
       "      <th>SaleType_New</th>\n",
       "      <th>SaleType_Oth</th>\n",
       "      <th>SaleType_WD</th>\n",
       "      <th>Street_Grvl</th>\n",
       "      <th>Street_Pave</th>\n",
       "      <th>Utilities_AllPub</th>\n",
       "      <th>Utilities_NoSeWa</th>\n",
       "      <th>Utilities_None</th>\n",
       "    </tr>\n",
       "  </thead>\n",
       "  <tbody>\n",
       "    <tr>\n",
       "      <th>0</th>\n",
       "      <td>-0.648517</td>\n",
       "      <td>-0.859795</td>\n",
       "      <td>-0.112313</td>\n",
       "      <td>-1.016868</td>\n",
       "      <td>-0.833091</td>\n",
       "      <td>-0.251374</td>\n",
       "      <td>-0.166720</td>\n",
       "      <td>-0.42391</td>\n",
       "      <td>-0.979803</td>\n",
       "      <td>-1.027091</td>\n",
       "      <td>...</td>\n",
       "      <td>0</td>\n",
       "      <td>0</td>\n",
       "      <td>0</td>\n",
       "      <td>0</td>\n",
       "      <td>1</td>\n",
       "      <td>0</td>\n",
       "      <td>1</td>\n",
       "      <td>1</td>\n",
       "      <td>0</td>\n",
       "      <td>0</td>\n",
       "    </tr>\n",
       "    <tr>\n",
       "      <th>1</th>\n",
       "      <td>0.566804</td>\n",
       "      <td>-0.859795</td>\n",
       "      <td>-0.112313</td>\n",
       "      <td>0.251255</td>\n",
       "      <td>-0.833091</td>\n",
       "      <td>-0.251374</td>\n",
       "      <td>0.118809</td>\n",
       "      <td>-0.42391</td>\n",
       "      <td>-0.979803</td>\n",
       "      <td>-1.027091</td>\n",
       "      <td>...</td>\n",
       "      <td>0</td>\n",
       "      <td>0</td>\n",
       "      <td>0</td>\n",
       "      <td>0</td>\n",
       "      <td>1</td>\n",
       "      <td>0</td>\n",
       "      <td>1</td>\n",
       "      <td>1</td>\n",
       "      <td>0</td>\n",
       "      <td>0</td>\n",
       "    </tr>\n",
       "    <tr>\n",
       "      <th>2</th>\n",
       "      <td>-0.543248</td>\n",
       "      <td>1.119259</td>\n",
       "      <td>-0.112313</td>\n",
       "      <td>0.251255</td>\n",
       "      <td>-0.833091</td>\n",
       "      <td>-0.251374</td>\n",
       "      <td>-0.603727</td>\n",
       "      <td>-0.42391</td>\n",
       "      <td>0.751112</td>\n",
       "      <td>0.810093</td>\n",
       "      <td>...</td>\n",
       "      <td>0</td>\n",
       "      <td>0</td>\n",
       "      <td>0</td>\n",
       "      <td>0</td>\n",
       "      <td>1</td>\n",
       "      <td>0</td>\n",
       "      <td>1</td>\n",
       "      <td>1</td>\n",
       "      <td>0</td>\n",
       "      <td>0</td>\n",
       "    </tr>\n",
       "    <tr>\n",
       "      <th>3</th>\n",
       "      <td>-0.549736</td>\n",
       "      <td>1.103498</td>\n",
       "      <td>-0.112313</td>\n",
       "      <td>0.251255</td>\n",
       "      <td>-0.833091</td>\n",
       "      <td>-0.251374</td>\n",
       "      <td>-0.041299</td>\n",
       "      <td>-0.42391</td>\n",
       "      <td>0.751112</td>\n",
       "      <td>0.810093</td>\n",
       "      <td>...</td>\n",
       "      <td>0</td>\n",
       "      <td>0</td>\n",
       "      <td>0</td>\n",
       "      <td>0</td>\n",
       "      <td>1</td>\n",
       "      <td>0</td>\n",
       "      <td>1</td>\n",
       "      <td>1</td>\n",
       "      <td>0</td>\n",
       "      <td>0</td>\n",
       "    </tr>\n",
       "    <tr>\n",
       "      <th>4</th>\n",
       "      <td>0.447860</td>\n",
       "      <td>-0.859795</td>\n",
       "      <td>-0.112313</td>\n",
       "      <td>-1.016868</td>\n",
       "      <td>-0.833091</td>\n",
       "      <td>-0.251374</td>\n",
       "      <td>0.830074</td>\n",
       "      <td>-0.42391</td>\n",
       "      <td>-0.979803</td>\n",
       "      <td>0.810093</td>\n",
       "      <td>...</td>\n",
       "      <td>0</td>\n",
       "      <td>0</td>\n",
       "      <td>0</td>\n",
       "      <td>0</td>\n",
       "      <td>1</td>\n",
       "      <td>0</td>\n",
       "      <td>1</td>\n",
       "      <td>1</td>\n",
       "      <td>0</td>\n",
       "      <td>0</td>\n",
       "    </tr>\n",
       "  </tbody>\n",
       "</table>\n",
       "<p>5 rows × 303 columns</p>\n",
       "</div>"
      ],
      "text/plain": [
       "   1stFlrSF  2ndFlrSF  3SsnPorch  BedroomAbvGr  BsmtFullBath  BsmtHalfBath  \\\n",
       "0 -0.648517 -0.859795  -0.112313     -1.016868     -0.833091     -0.251374   \n",
       "1  0.566804 -0.859795  -0.112313      0.251255     -0.833091     -0.251374   \n",
       "2 -0.543248  1.119259  -0.112313      0.251255     -0.833091     -0.251374   \n",
       "3 -0.549736  1.103498  -0.112313      0.251255     -0.833091     -0.251374   \n",
       "4  0.447860 -0.859795  -0.112313     -1.016868     -0.833091     -0.251374   \n",
       "\n",
       "   BsmtUnfSF  EnclosedPorch  Fireplaces  FullBath       ...        \\\n",
       "0  -0.166720       -0.42391   -0.979803 -1.027091       ...         \n",
       "1   0.118809       -0.42391   -0.979803 -1.027091       ...         \n",
       "2  -0.603727       -0.42391    0.751112  0.810093       ...         \n",
       "3  -0.041299       -0.42391    0.751112  0.810093       ...         \n",
       "4   0.830074       -0.42391   -0.979803  0.810093       ...         \n",
       "\n",
       "   SaleType_ConLI  SaleType_ConLw  SaleType_New  SaleType_Oth  SaleType_WD  \\\n",
       "0               0               0             0             0            1   \n",
       "1               0               0             0             0            1   \n",
       "2               0               0             0             0            1   \n",
       "3               0               0             0             0            1   \n",
       "4               0               0             0             0            1   \n",
       "\n",
       "   Street_Grvl  Street_Pave  Utilities_AllPub  Utilities_NoSeWa  \\\n",
       "0            0            1                 1                 0   \n",
       "1            0            1                 1                 0   \n",
       "2            0            1                 1                 0   \n",
       "3            0            1                 1                 0   \n",
       "4            0            1                 1                 0   \n",
       "\n",
       "   Utilities_None  \n",
       "0               0  \n",
       "1               0  \n",
       "2               0  \n",
       "3               0  \n",
       "4               0  \n",
       "\n",
       "[5 rows x 303 columns]"
      ]
     },
     "metadata": {},
     "output_type": "display_data"
    }
   ],
   "source": [
    "display(x_train.head())\n",
    "display(x_test.head())"
   ]
  },
  {
   "cell_type": "markdown",
   "metadata": {},
   "source": [
    "- - -\n",
    "### log-transformation\n",
    " saleprice 정규화를 위한 log-transformation"
   ]
  },
  {
   "cell_type": "code",
   "execution_count": 5,
   "metadata": {},
   "outputs": [
    {
     "data": {
      "image/png": "[encoded data removed]",
      "text/plain": [
       "<matplotlib.figure.Figure at 0x7f863115b5f8>"
      ]
     },
     "metadata": {},
     "output_type": "display_data"
    }
   ],
   "source": [
    "y_train_log = np.log(y_train)\n",
    "\n",
    "plt.figure(figsize=(10,5))\n",
    "plt.subplot(1,2,1)\n",
    "sns.distplot(y_train, bins=50)\n",
    "plt.title('Original Data')\n",
    "plt.xlabel('Sale Price')\n",
    "\n",
    "plt.subplot(1,2,2)\n",
    "sns.distplot(y_train_log, bins=50)\n",
    "plt.title('Natural Log of Data')\n",
    "plt.xlabel('Natural Log of Sale Price')\n",
    "plt.tight_layout()"
   ]
  },
  {
   "cell_type": "markdown",
   "metadata": {},
   "source": [
    "### score 도출해주는 함수 선언"
   ]
  },
  {
   "cell_type": "code",
   "execution_count": 6,
   "metadata": {},
   "outputs": [],
   "source": [
    "def rmsle(y, y_pred):\n",
    "    return np.sqrt(mean_squared_error(y, y_pred))"
   ]
  },
  {
   "cell_type": "markdown",
   "metadata": {},
   "source": [
    "지금까지가 데이터 로딩이다. 추후 1번부터 6번까지 모델 정의 및 label 예측이다.<br>\n",
    "1, 4, 5, 6은 직접적으로 예측에 사용한다. 2, 3은 모델은 정의했지만 생각대로 예측이 정확하게 되지 않아 배제하였다."
   ]
  },
  {
   "cell_type": "markdown",
   "metadata": {},
   "source": [
    "- - -\n",
    " # 1. MLP(hidden layer 1개, tensorflow)"
   ]
  },
  {
   "cell_type": "code",
   "execution_count": 7,
   "metadata": {},
   "outputs": [],
   "source": [
    "import tensorflow as tf\n",
    "import math\n",
    "from sklearn.model_selection import train_test_split\n",
    "\n",
    "x_train_np = x_train.as_matrix()\n",
    "# y_train_np = y_train_log.as_matrix()\n",
    "x_test_np = x_test.as_matrix()"
   ]
  },
  {
   "cell_type": "markdown",
   "metadata": {},
   "source": [
    "### hyperparameter init"
   ]
  },
  {
   "cell_type": "code",
   "execution_count": 8,
   "metadata": {},
   "outputs": [],
   "source": [
    "'''\n",
    "    num_unit1 : hidden layer의 뉴런 개수\n",
    "    keepout : keepout rate\n",
    "    step : 학습 횟수\n",
    "    learning_rate : optimizer learning rate\n",
    "'''\n",
    "num_unit1 = 200\n",
    "keepout = 0.5\n",
    "step = 10000\n",
    "learning_rate = 0.003\n",
    "batch_size = 30"
   ]
  },
  {
   "cell_type": "markdown",
   "metadata": {},
   "source": [
    "### 학습 모델(hidden layer 1개)"
   ]
  },
  {
   "cell_type": "code",
   "execution_count": 9,
   "metadata": {},
   "outputs": [],
   "source": [
    "'''\n",
    "    y_ : Input labels\n",
    "    keep_prob : keepout rate\n",
    "'''\n",
    "y_ = tf.placeholder(tf.float32, [None,1])\n",
    "keep_prob = tf.placeholder(tf.float32)\n",
    "\n",
    "# weight, bias\n",
    "W1 = tf.Variable(tf.truncated_normal([x_train.shape[1], num_unit1],\n",
    "                                          stddev=0.1))\n",
    "b1 = tf.Variable(tf.constant(0., shape = [num_unit1]))\n",
    "\n",
    "W0 = tf.Variable(tf.truncated_normal([num_unit1, 1],\n",
    "                                     stddev=0.1))\n",
    "b0 = tf.Variable(tf.constant(0., shape = [1]))\n",
    "\n",
    "# Input layer\n",
    "x1 = tf.placeholder(tf.float32, [None, x_train.shape[1]])\n",
    "\n",
    "# Hidden1 layer\n",
    "hidden1 = tf.nn.relu(tf.matmul(x1, W1) + b1)\n",
    "# hidden1 = (tf.matmul(x1, W1) + b1)\n",
    "hidden1_drop = tf.nn.dropout(hidden1, keep_prob)\n",
    "\n",
    "# Output layer(Labels_predict)\n",
    "k = tf.matmul(hidden1_drop, W0) + b0\n",
    "\n",
    "'''\n",
    "    cost func : MSE\n",
    "    optimizer : adam\n",
    "'''\n",
    "cost = tf.losses.mean_squared_error(labels = y_, predictions = k)\n",
    "lr = tf.placeholder(tf.float32)\n",
    "train_step = tf.train.AdamOptimizer(lr).minimize(cost)"
   ]
  },
  {
   "cell_type": "markdown",
   "metadata": {},
   "source": [
    "### 학습 / 검증(split data로 train)"
   ]
  },
  {
   "cell_type": "code",
   "execution_count": 10,
   "metadata": {},
   "outputs": [
    {
     "name": "stdout",
     "output_type": "stream",
     "text": [
      "Training\n",
      "\n",
      "step : 100, batch : 0\t\tloss : 2.3094864 valid_loss : 2.3069572\n",
      "step : 200, batch : 0\t\tloss : 1.8132521 valid_loss : 1.8226912\n",
      "step : 300, batch : 0\t\tloss : 1.68598 valid_loss : 1.6563004\n",
      "step : 400, batch : 0\t\tloss : 1.3591807 valid_loss : 1.6102179\n",
      "step : 500, batch : 0\t\tloss : 1.4847511 valid_loss : 1.4061326\n",
      "step : 600, batch : 0\t\tloss : 1.3803256 valid_loss : 1.3567102\n",
      "step : 700, batch : 0\t\tloss : 1.3855573 valid_loss : 1.3261578\n",
      "step : 800, batch : 0\t\tloss : 1.3899388 valid_loss : 1.4312572\n",
      "step : 900, batch : 0\t\tloss : 1.3518282 valid_loss : 1.344911\n",
      "step : 1000, batch : 0\t\tloss : 1.2529583 valid_loss : 1.473693\n",
      "step : 1100, batch : 0\t\tloss : 1.3417548 valid_loss : 1.3280003\n",
      "step : 1200, batch : 0\t\tloss : 1.2838254 valid_loss : 1.1984333\n",
      "step : 1300, batch : 0\t\tloss : 1.2117302 valid_loss : 1.3389883\n",
      "step : 1400, batch : 0\t\tloss : 1.2818274 valid_loss : 1.1581743\n",
      "step : 1500, batch : 0\t\tloss : 1.1210091 valid_loss : 1.0331413\n",
      "step : 1600, batch : 0\t\tloss : 1.1449512 valid_loss : 1.2137872\n",
      "step : 1700, batch : 0\t\tloss : 1.1455367 valid_loss : 1.2743075\n",
      "step : 1800, batch : 0\t\tloss : 1.0799199 valid_loss : 1.2136611\n",
      "step : 1900, batch : 0\t\tloss : 1.1338514 valid_loss : 0.99483806\n",
      "step : 2000, batch : 0\t\tloss : 1.0990962 valid_loss : 1.1685162\n",
      "step : 2100, batch : 0\t\tloss : 1.0826706 valid_loss : 1.0889332\n",
      "step : 2200, batch : 0\t\tloss : 0.98374164 valid_loss : 1.0241649\n",
      "step : 2300, batch : 0\t\tloss : 1.0843277 valid_loss : 1.1559894\n",
      "step : 2400, batch : 0\t\tloss : 1.0490229 valid_loss : 1.0948539\n",
      "step : 2500, batch : 0\t\tloss : 1.0081885 valid_loss : 1.0503988\n",
      "step : 2600, batch : 0\t\tloss : 1.0961443 valid_loss : 1.0333843\n",
      "step : 2700, batch : 0\t\tloss : 0.8971745 valid_loss : 0.86460936\n",
      "step : 2800, batch : 0\t\tloss : 0.9769741 valid_loss : 0.9715792\n",
      "step : 2900, batch : 0\t\tloss : 0.99192303 valid_loss : 0.9043361\n",
      "step : 3000, batch : 0\t\tloss : 0.90319324 valid_loss : 0.9427379\n",
      "step : 3100, batch : 0\t\tloss : 0.86091787 valid_loss : 0.9364488\n",
      "step : 3200, batch : 0\t\tloss : 0.9137759 valid_loss : 0.8636496\n",
      "step : 3300, batch : 0\t\tloss : 0.8389737 valid_loss : 0.8378143\n",
      "step : 3400, batch : 0\t\tloss : 0.81444436 valid_loss : 0.7628478\n",
      "step : 3500, batch : 0\t\tloss : 0.76077324 valid_loss : 0.8230877\n",
      "step : 3600, batch : 0\t\tloss : 0.75434905 valid_loss : 0.82195467\n",
      "step : 3700, batch : 0\t\tloss : 0.7487689 valid_loss : 0.76979005\n",
      "step : 3800, batch : 0\t\tloss : 0.72279364 valid_loss : 0.7676188\n",
      "step : 3900, batch : 0\t\tloss : 0.64709574 valid_loss : 0.77228093\n",
      "step : 4000, batch : 0\t\tloss : 0.6560185 valid_loss : 0.6424104\n",
      "step : 4100, batch : 0\t\tloss : 0.6825919 valid_loss : 0.73347974\n",
      "step : 4200, batch : 0\t\tloss : 0.5541991 valid_loss : 0.59088373\n",
      "step : 4300, batch : 0\t\tloss : 0.5704423 valid_loss : 0.62522453\n",
      "step : 4400, batch : 0\t\tloss : 0.6171073 valid_loss : 0.6138455\n",
      "step : 4500, batch : 0\t\tloss : 0.58759576 valid_loss : 0.5675982\n",
      "step : 4600, batch : 0\t\tloss : 0.5499801 valid_loss : 0.51742387\n",
      "step : 4700, batch : 0\t\tloss : 0.53849626 valid_loss : 0.5297715\n",
      "step : 4800, batch : 0\t\tloss : 0.49007908 valid_loss : 0.5243264\n",
      "step : 4900, batch : 0\t\tloss : 0.5215439 valid_loss : 0.50427264\n",
      "step : 5000, batch : 0\t\tloss : 0.47828236 valid_loss : 0.58821094\n",
      "step : 5100, batch : 0\t\tloss : 0.42636037 valid_loss : 0.53488016\n",
      "step : 5200, batch : 0\t\tloss : 0.4283786 valid_loss : 0.4483767\n",
      "step : 5300, batch : 0\t\tloss : 0.4102816 valid_loss : 0.46451515\n",
      "step : 5400, batch : 0\t\tloss : 0.41000587 valid_loss : 0.43195394\n",
      "step : 5500, batch : 0\t\tloss : 0.38903552 valid_loss : 0.40709186\n",
      "step : 5600, batch : 0\t\tloss : 0.34403855 valid_loss : 0.3503728\n",
      "step : 5700, batch : 0\t\tloss : 0.34760624 valid_loss : 0.336517\n",
      "step : 5800, batch : 0\t\tloss : 0.31912532 valid_loss : 0.34828842\n",
      "step : 5900, batch : 0\t\tloss : 0.29902914 valid_loss : 0.34414247\n",
      "step : 6000, batch : 0\t\tloss : 0.28920037 valid_loss : 0.32195726\n",
      "step : 6100, batch : 0\t\tloss : 0.30902645 valid_loss : 0.2981167\n",
      "step : 6200, batch : 0\t\tloss : 0.26863128 valid_loss : 0.27959567\n",
      "step : 6300, batch : 0\t\tloss : 0.26265574 valid_loss : 0.26602542\n",
      "step : 6400, batch : 0\t\tloss : 0.2320168 valid_loss : 0.26548025\n",
      "step : 6500, batch : 0\t\tloss : 0.23378372 valid_loss : 0.25658792\n",
      "step : 6600, batch : 0\t\tloss : 0.2371945 valid_loss : 0.24226493\n",
      "step : 6700, batch : 0\t\tloss : 0.18981251 valid_loss : 0.22955325\n",
      "step : 6800, batch : 0\t\tloss : 0.18553154 valid_loss : 0.2110109\n",
      "step : 6900, batch : 0\t\tloss : 0.1870416 valid_loss : 0.16783094\n",
      "step : 7000, batch : 0\t\tloss : 0.16638592 valid_loss : 0.1858739\n",
      "step : 7100, batch : 0\t\tloss : 0.15703982 valid_loss : 0.17253818\n",
      "step : 7200, batch : 0\t\tloss : 0.14476101 valid_loss : 0.15367624\n",
      "step : 7300, batch : 0\t\tloss : 0.12495609 valid_loss : 0.15817852\n",
      "step : 7400, batch : 0\t\tloss : 0.12388948 valid_loss : 0.14033942\n",
      "step : 7500, batch : 0\t\tloss : 0.13067365 valid_loss : 0.14408581\n",
      "step : 7600, batch : 0\t\tloss : 0.11337663 valid_loss : 0.11101904\n",
      "step : 7700, batch : 0\t\tloss : 0.11485739 valid_loss : 0.12627862\n",
      "step : 7800, batch : 0\t\tloss : 0.09754521 valid_loss : 0.11161695\n",
      "step : 7900, batch : 0\t\tloss : 0.085252985 valid_loss : 0.093581684\n",
      "step : 8000, batch : 0\t\tloss : 0.08666222 valid_loss : 0.09853941\n",
      "step : 8100, batch : 0\t\tloss : 0.07379378 valid_loss : 0.08428252\n",
      "step : 8200, batch : 0\t\tloss : 0.07046843 valid_loss : 0.08279906\n",
      "step : 8300, batch : 0\t\tloss : 0.06552996 valid_loss : 0.07666354\n",
      "step : 8400, batch : 0\t\tloss : 0.060188398 valid_loss : 0.07364411\n",
      "step : 8500, batch : 0\t\tloss : 0.052319843 valid_loss : 0.06509067\n",
      "step : 8600, batch : 0\t\tloss : 0.050020248 valid_loss : 0.07808237\n",
      "step : 8700, batch : 0\t\tloss : 0.04554101 valid_loss : 0.06242694\n",
      "step : 8800, batch : 0\t\tloss : 0.045343895 valid_loss : 0.057734553\n",
      "step : 8900, batch : 0\t\tloss : 0.03876008 valid_loss : 0.058938038\n",
      "step : 9000, batch : 0\t\tloss : 0.035821743 valid_loss : 0.048534658\n",
      "step : 9100, batch : 0\t\tloss : 0.03544686 valid_loss : 0.052004304\n",
      "step : 9200, batch : 0\t\tloss : 0.026875392 valid_loss : 0.045112893\n",
      "step : 9300, batch : 0\t\tloss : 0.026305022 valid_loss : 0.044127505\n",
      "step : 9400, batch : 0\t\tloss : 0.025062531 valid_loss : 0.043275572\n",
      "step : 9500, batch : 0\t\tloss : 0.020686748 valid_loss : 0.039897405\n",
      "step : 9600, batch : 0\t\tloss : 0.021574594 valid_loss : 0.036419097\n",
      "step : 9700, batch : 0\t\tloss : 0.018664848 valid_loss : 0.034303017\n",
      "step : 9800, batch : 0\t\tloss : 0.016161814 valid_loss : 0.03289247\n",
      "step : 9900, batch : 0\t\tloss : 0.015528303 valid_loss : 0.035168312\n",
      "step : 10000, batch : 0\t\tloss : 0.014736638 valid_loss : 0.034644935\n"
     ]
    }
   ],
   "source": [
    "x_train1, x_train2, y_train1, y_train2 = train_test_split(x_train_np,\n",
    "                                                    y_train_log,\n",
    "                                                    test_size=0.33,\n",
    "                                                    random_state=7)\n",
    "# mini batch를 일단 없애고 진행했다.\n",
    "batch_size = x_train1.shape[0]\n",
    "\n",
    "print (\"Training\\n\")\n",
    "sess = tf.Session()\n",
    "init = tf.global_variables_initializer() #.run()\n",
    "sess.run(init)\n",
    "\n",
    "# tensorboard를 사용하기 위하여 summary.scalar를 사용\n",
    "tf.summary.scalar('loss', cost)\n",
    "merged = tf.summary.merge_all()\n",
    "train_writer = tf.summary.FileWriter('./tensorboard', sess.graph)\n",
    "\n",
    "# (?, ) -> (?, 1)\n",
    "y_train_log = y_train_log.reshape([y_train_log.shape[0], 1])\n",
    "y_train1 = y_train1.reshape([y_train1.shape[0], 1])\n",
    "y_train2 = y_train2.reshape([y_train2.shape[0], 1])\n",
    "\n",
    "j=0\n",
    "for _ in range(step):\n",
    "    j += 1\n",
    "\n",
    "    batch_count = int(math.ceil(x_train1.shape[0]/batch_size))\n",
    "    for i in range(batch_count):\n",
    "        batch_xs1, batch_ys1 = x_train1[batch_size * i : batch_size*(i+1)], y_train1[batch_size * i : batch_size*(i+1)]\n",
    "        sess.run(train_step,\n",
    "                            feed_dict={x1: batch_xs1, y_: batch_ys1, keep_prob:keepout, lr : learning_rate})\n",
    "        summary = sess.run(merged,\n",
    "                            feed_dict={x1: x_train2, y_: y_train2, keep_prob:keepout, lr : learning_rate})\n",
    "        train_writer.add_summary(summary, j)\n",
    "        if j % 100 == 0:\n",
    "            print('step : {}, batch : {}'.format(j, i*batch_size), end='\\t\\t')\n",
    "            print ('loss :',sess.run(cost, feed_dict={x1: x_train1, y_: y_train1, keep_prob:keepout, lr : learning_rate}), \n",
    "                   'valid_loss :', sess.run(cost, feed_dict={x1: x_train2, y_: y_train2, keep_prob:keepout, lr : learning_rate}))\n",
    "train_writer.close()\n"
   ]
  },
  {
   "cell_type": "markdown",
   "metadata": {},
   "source": [
    "### 검증 데이터 plotting"
   ]
  },
  {
   "cell_type": "code",
   "execution_count": 11,
   "metadata": {},
   "outputs": [
    {
     "name": "stdout",
     "output_type": "stream",
     "text": [
      "24197.3390163951\n"
     ]
    },
    {
     "data": {
      "image/png": "[encoded data removed]",
      "text/plain": [
       "<matplotlib.figure.Figure at 0x7f8620dedf28>"
      ]
     },
     "metadata": {},
     "output_type": "display_data"
    }
   ],
   "source": [
    "pred_train = np.exp(sess.run(k, feed_dict={x1: x_train, keep_prob : 1}))\n",
    "\n",
    "plt.figure(figsize=(10, 5))\n",
    "plt.scatter(y_train, pred_train, s=20)\n",
    "plt.title('Predicted vs. Actual')\n",
    "plt.xlabel('Actual Sale Price')\n",
    "plt.ylabel('Predicted Sale Price')\n",
    "\n",
    "plt.plot([min(y_train), max(y_train)], [min(y_train), max(y_train)])\n",
    "plt.tight_layout()\n",
    "\n",
    "sess.close()\n",
    "print(rmsle(y_train,pred_train))"
   ]
  },
  {
   "cell_type": "markdown",
   "metadata": {},
   "source": [
    "### train 전체 데이터로 학습, test로 predict"
   ]
  },
  {
   "cell_type": "code",
   "execution_count": 12,
   "metadata": {
    "scrolled": true
   },
   "outputs": [
    {
     "name": "stdout",
     "output_type": "stream",
     "text": [
      "Training\n",
      "\n",
      "step : 100, batch : 0\tloss : 2.115805\n",
      "step : 200, batch : 0\tloss : 1.7152756\n",
      "step : 300, batch : 0\tloss : 1.6981435\n",
      "step : 400, batch : 0\tloss : 1.4292552\n",
      "step : 500, batch : 0\tloss : 1.4561288\n",
      "step : 600, batch : 0\tloss : 1.3232436\n",
      "step : 700, batch : 0\tloss : 1.4134349\n",
      "step : 800, batch : 0\tloss : 1.3900093\n",
      "step : 900, batch : 0\tloss : 1.2803252\n",
      "step : 1000, batch : 0\tloss : 1.3445897\n",
      "step : 1100, batch : 0\tloss : 1.2256306\n",
      "step : 1200, batch : 0\tloss : 1.2281529\n",
      "step : 1300, batch : 0\tloss : 1.1443923\n",
      "step : 1400, batch : 0\tloss : 1.1255634\n",
      "step : 1500, batch : 0\tloss : 1.3441223\n",
      "step : 1600, batch : 0\tloss : 1.1543053\n",
      "step : 1700, batch : 0\tloss : 1.1261021\n",
      "step : 1800, batch : 0\tloss : 1.1593279\n",
      "step : 1900, batch : 0\tloss : 1.0271808\n",
      "step : 2000, batch : 0\tloss : 1.0342698\n",
      "step : 2100, batch : 0\tloss : 1.0729316\n",
      "step : 2200, batch : 0\tloss : 0.9661391\n",
      "step : 2300, batch : 0\tloss : 1.0817487\n",
      "step : 2400, batch : 0\tloss : 1.0595944\n",
      "step : 2500, batch : 0\tloss : 1.0082834\n",
      "step : 2600, batch : 0\tloss : 0.97151095\n",
      "step : 2700, batch : 0\tloss : 0.9502993\n",
      "step : 2800, batch : 0\tloss : 0.9494554\n",
      "step : 2900, batch : 0\tloss : 0.8996194\n",
      "step : 3000, batch : 0\tloss : 0.953566\n",
      "step : 3100, batch : 0\tloss : 0.9151593\n",
      "step : 3200, batch : 0\tloss : 0.8264067\n",
      "step : 3300, batch : 0\tloss : 0.82824683\n",
      "step : 3400, batch : 0\tloss : 0.7715636\n",
      "step : 3500, batch : 0\tloss : 0.74968666\n",
      "step : 3600, batch : 0\tloss : 0.7221868\n",
      "step : 3700, batch : 0\tloss : 0.71167237\n",
      "step : 3800, batch : 0\tloss : 0.653949\n",
      "step : 3900, batch : 0\tloss : 0.6704955\n",
      "step : 4000, batch : 0\tloss : 0.6931136\n",
      "step : 4100, batch : 0\tloss : 0.64636296\n",
      "step : 4200, batch : 0\tloss : 0.5997043\n",
      "step : 4300, batch : 0\tloss : 0.5772577\n",
      "step : 4400, batch : 0\tloss : 0.5922487\n",
      "step : 4500, batch : 0\tloss : 0.5320117\n",
      "step : 4600, batch : 0\tloss : 0.51073754\n",
      "step : 4700, batch : 0\tloss : 0.4988861\n",
      "step : 4800, batch : 0\tloss : 0.5072384\n",
      "step : 4900, batch : 0\tloss : 0.5105861\n",
      "step : 5000, batch : 0\tloss : 0.42776403\n",
      "step : 5100, batch : 0\tloss : 0.47037524\n",
      "step : 5200, batch : 0\tloss : 0.40154618\n",
      "step : 5300, batch : 0\tloss : 0.39655524\n",
      "step : 5400, batch : 0\tloss : 0.3656251\n",
      "step : 5500, batch : 0\tloss : 0.37105772\n",
      "step : 5600, batch : 0\tloss : 0.33628666\n",
      "step : 5700, batch : 0\tloss : 0.33002678\n",
      "step : 5800, batch : 0\tloss : 0.30766943\n",
      "step : 5900, batch : 0\tloss : 0.30430245\n",
      "step : 6000, batch : 0\tloss : 0.2810884\n",
      "step : 6100, batch : 0\tloss : 0.26223338\n",
      "step : 6200, batch : 0\tloss : 0.2481215\n",
      "step : 6300, batch : 0\tloss : 0.23600799\n",
      "step : 6400, batch : 0\tloss : 0.22836456\n",
      "step : 6500, batch : 0\tloss : 0.22093321\n",
      "step : 6600, batch : 0\tloss : 0.19280173\n",
      "step : 6700, batch : 0\tloss : 0.2074187\n",
      "step : 6800, batch : 0\tloss : 0.17921853\n",
      "step : 6900, batch : 0\tloss : 0.15903293\n",
      "step : 7000, batch : 0\tloss : 0.15862979\n",
      "step : 7100, batch : 0\tloss : 0.14715536\n",
      "step : 7200, batch : 0\tloss : 0.14339355\n",
      "step : 7300, batch : 0\tloss : 0.123414166\n",
      "step : 7400, batch : 0\tloss : 0.11097406\n",
      "step : 7500, batch : 0\tloss : 0.09852985\n",
      "step : 7600, batch : 0\tloss : 0.102063134\n",
      "step : 7700, batch : 0\tloss : 0.09646357\n",
      "step : 7800, batch : 0\tloss : 0.08342528\n",
      "step : 7900, batch : 0\tloss : 0.08444164\n",
      "step : 8000, batch : 0\tloss : 0.07363351\n",
      "step : 8100, batch : 0\tloss : 0.07166733\n",
      "step : 8200, batch : 0\tloss : 0.062337454\n",
      "step : 8300, batch : 0\tloss : 0.05676988\n",
      "step : 8400, batch : 0\tloss : 0.054084145\n",
      "step : 8500, batch : 0\tloss : 0.05068109\n",
      "step : 8600, batch : 0\tloss : 0.04422586\n",
      "step : 8700, batch : 0\tloss : 0.04198781\n",
      "step : 8800, batch : 0\tloss : 0.037161324\n",
      "step : 8900, batch : 0\tloss : 0.034209624\n",
      "step : 9000, batch : 0\tloss : 0.03154553\n",
      "step : 9100, batch : 0\tloss : 0.026940584\n",
      "step : 9200, batch : 0\tloss : 0.027927877\n",
      "step : 9300, batch : 0\tloss : 0.022503989\n",
      "step : 9400, batch : 0\tloss : 0.022656698\n",
      "step : 9500, batch : 0\tloss : 0.018306872\n",
      "step : 9600, batch : 0\tloss : 0.017688587\n",
      "step : 9700, batch : 0\tloss : 0.018180445\n",
      "step : 9800, batch : 0\tloss : 0.016081182\n",
      "step : 9900, batch : 0\tloss : 0.015106513\n",
      "step : 10000, batch : 0\tloss : 0.014703783\n",
      "Testing model\n",
      "        Id      SalePrice\n",
      "0     1461  125420.289062\n",
      "1     1462  157584.656250\n",
      "2     1463  190900.515625\n",
      "3     1464  201580.187500\n",
      "4     1465  201738.468750\n",
      "5     1466  175015.687500\n",
      "6     1467  179985.015625\n",
      "7     1468  162854.468750\n",
      "8     1469  193828.187500\n",
      "9     1470  119972.726562\n",
      "10    1471  165517.687500\n",
      "11    1472   96193.242188\n",
      "12    1473   96429.664062\n",
      "13    1474  144478.515625\n",
      "14    1475  110542.609375\n",
      "15    1476  373272.437500\n",
      "16    1477  254905.578125\n",
      "17    1478  319639.062500\n",
      "18    1479  317286.250000\n",
      "19    1480  515089.406250\n",
      "20    1481  335661.937500\n",
      "21    1482  217253.531250\n",
      "22    1483  187788.953125\n",
      "23    1484  167986.859375\n",
      "24    1485  187878.156250\n",
      "25    1486  190981.015625\n",
      "26    1487  353926.312500\n",
      "27    1488  221413.640625\n",
      "28    1489  201941.156250\n",
      "29    1490  258806.687500\n",
      "...    ...            ...\n",
      "1429  2890   80292.406250\n",
      "1430  2891  147239.468750\n",
      "1431  2892   52300.308594\n",
      "1432  2893   79023.695312\n",
      "1433  2894   61372.980469\n",
      "1434  2895  362036.906250\n",
      "1435  2896  292550.156250\n",
      "1436  2897  219630.250000\n",
      "1437  2898  135307.953125\n",
      "1438  2899  201678.640625\n",
      "1439  2900  160696.875000\n",
      "1440  2901  225255.218750\n",
      "1441  2902  163517.593750\n",
      "1442  2903  320366.000000\n",
      "1443  2904  341846.781250\n",
      "1444  2905   79946.890625\n",
      "1445  2906  183251.562500\n",
      "1446  2907  100392.414062\n",
      "1447  2908  127150.429688\n",
      "1448  2909  139757.078125\n",
      "1449  2910   81426.960938\n",
      "1450  2911   80797.687500\n",
      "1451  2912  148667.812500\n",
      "1452  2913   81983.312500\n",
      "1453  2914   81775.445312\n",
      "1454  2915   87567.578125\n",
      "1455  2916   84380.289062\n",
      "1456  2917  178380.265625\n",
      "1457  2918  128864.859375\n",
      "1458  2919  217830.062500\n",
      "\n",
      "[1459 rows x 2 columns]\n"
     ]
    }
   ],
   "source": [
    "print (\"Training\\n\")\n",
    "sess = tf.Session()\n",
    "init = tf.global_variables_initializer() #.run()\n",
    "sess.run(init)\n",
    "\n",
    "###\n",
    "batch_size = x_train.shape[0]\n",
    "\n",
    "# tensorboard를 사용하기 위하여 summary.scalar를 사용\n",
    "tf.summary.scalar('loss', cost)\n",
    "merged = tf.summary.merge_all()\n",
    "train_writer = tf.summary.FileWriter('./tensorboard', sess.graph)\n",
    "\n",
    "# (?, ) -> (?, 1)\n",
    "y_train_log = y_train_log.reshape([y_train_log.shape[0], 1])\n",
    "\n",
    "j=0\n",
    "\n",
    "for _ in range(step):\n",
    "    j += 1\n",
    "    \n",
    "    batch_count = int(math.ceil(x_train.shape[0]/batch_size))\n",
    "    for i in range(batch_count):\n",
    "        batch_xs, batch_ys = x_train[batch_size * i : batch_size*(i+1)], y_train_log[batch_size * i : batch_size*(i+1)]\n",
    "        sess.run(train_step,\n",
    "                            feed_dict={x1: batch_xs, y_: batch_ys, keep_prob:keepout, lr : learning_rate})\n",
    "        summary = sess.run(merged,\n",
    "                            feed_dict={x1:  x_train, y_: y_train_log, keep_prob:keepout, lr : learning_rate})\n",
    "        train_writer.add_summary(summary, j)\n",
    "        if j % 100 == 0:\n",
    "            print('step : {}, batch : {}'.format(j, i), end='\\t')\n",
    "            print ('loss :',sess.run(cost, feed_dict={x1: x_train, y_: y_train_log, keep_prob:keepout, lr : learning_rate}))\n",
    "\n",
    "\n",
    "print (\"Testing model\")\n",
    "# Test trained model\n",
    "y_test = pd.read_csv('./data/submission.csv', engine='python')\n",
    "hidden1_pred = np.exp(sess.run(k, feed_dict={x1: x_test, keep_prob : 1}))\n",
    "\n",
    "submission = pd.DataFrame()\n",
    "submission['Id'] = x_test.index+1461\n",
    "submission['SalePrice'] = (hidden1_pred)\n",
    "print(submission)\n",
    "submission.to_csv('./output_csv/MLP_tensorflow_all_normalize_skewed.csv', index=False)\n",
    "\n",
    "train_writer.close()\n",
    "sess.close()"
   ]
  },
  {
   "cell_type": "markdown",
   "metadata": {},
   "source": [
    "### tensorboard\n",
    " - loss\n",
    "![](./img/1.png)\n",
    " - graph\n",
    "![](./img/2.png)"
   ]
  },
  {
   "cell_type": "markdown",
   "metadata": {},
   "source": [
    "- - -\n",
    " # 2. MLP(hidden layer 2개, tensorflow)"
   ]
  },
  {
   "cell_type": "code",
   "execution_count": null,
   "metadata": {},
   "outputs": [],
   "source": [
    "import tensorflow as tf"
   ]
  },
  {
   "cell_type": "code",
   "execution_count": null,
   "metadata": {},
   "outputs": [],
   "source": [
    "'''\n",
    "    num_unit1 : hidden layer 1의 뉴런 개수\n",
    "    num_unit2 : hidden layer 2의 뉴런 개수\n",
    "    keepout : keepout rate\n",
    "    step : 학습 횟수\n",
    "    learning_rate : optimizer learning rate\n",
    "'''\n",
    "num_unit1 = 200\n",
    "num_unit2 = 75\n",
    "keepout = 0.5\n",
    "step = 10000\n",
    "learning_rate = 0.003"
   ]
  },
  {
   "cell_type": "markdown",
   "metadata": {},
   "source": [
    "### 학습 모델(hidden layer 2개)"
   ]
  },
  {
   "cell_type": "code",
   "execution_count": null,
   "metadata": {},
   "outputs": [],
   "source": [
    "'''\n",
    "    y_ : Input labels\n",
    "    keep_prob : keepout rate\n",
    "'''\n",
    "y_ = tf.placeholder(tf.float32, [None,1])\n",
    "keep_prob = tf.placeholder(tf.float32)\n",
    "\n",
    "# weight, bias\n",
    "W1 = tf.Variable(tf.truncated_normal([x_train.shape[1], num_unit1],\n",
    "                                          stddev=0.1))\n",
    "b1 = tf.Variable(tf.constant(1., shape = [num_unit1]))\n",
    "\n",
    "W2 = tf.Variable(tf.truncated_normal([num_unit1, num_unit2],\n",
    "                                          stddev=0.1))\n",
    "b2 = tf.Variable(tf.constant(1., shape = [num_unit2]))\n",
    "\n",
    "W0 = tf.Variable(tf.truncated_normal([num_unit2, 1],\n",
    "                                     stddev=0.1))\n",
    "b0 = tf.Variable(tf.constant(1., shape = [1]))\n",
    "\n",
    "# Input layer\n",
    "x1 = tf.placeholder(tf.float32, [None, x_train.shape[1]])\n",
    "\n",
    "# Hidden layer 1\n",
    "hidden1 = tf.nn.relu(tf.matmul(x1, W1) + b1)\n",
    "hidden1_drop = tf.nn.dropout(hidden1, keep_prob)\n",
    "\n",
    "# Hidden2 layer\n",
    "hidden2 = tf.nn.relu(tf.matmul(hidden1_drop, W2) + b2)\n",
    "hidden2_drop = tf.nn.dropout(hidden2, keep_prob)\n",
    "\n",
    "# Output layer(Labels_predict)\n",
    "k = tf.matmul(hidden2_drop, W0) + b0\n",
    "\n",
    "'''\n",
    "    cost func : MSE\n",
    "    optimizer : adam\n",
    "'''\n",
    "cost = tf.losses.mean_squared_error(labels = y_, predictions = k)\n",
    "train_step = tf.train.AdamOptimizer(learning_rate).minimize(cost)"
   ]
  },
  {
   "cell_type": "markdown",
   "metadata": {},
   "source": [
    "### 학습"
   ]
  },
  {
   "cell_type": "code",
   "execution_count": null,
   "metadata": {},
   "outputs": [],
   "source": [
    "print (\"Training\\n\")\n",
    "sess = tf.Session()\n",
    "init = tf.global_variables_initializer() #.run()\n",
    "sess.run(init)"
   ]
  },
  {
   "cell_type": "code",
   "execution_count": null,
   "metadata": {},
   "outputs": [],
   "source": [
    "# tensorboard를 사용하기 위하여 summary.scalar를 사용\n",
    "tf.summary.scalar('loss', cost)\n",
    "merged = tf.summary.merge_all()\n",
    "train_writer = tf.summary.FileWriter('./tensorboard', sess.graph)\n",
    "\n",
    "# (?, ) -> (?, 1)\n",
    "y_train_log = y_train_log.reshape([y_train_log.shape[0], 1])"
   ]
  },
  {
   "cell_type": "code",
   "execution_count": null,
   "metadata": {},
   "outputs": [],
   "source": [
    "j=0"
   ]
  },
  {
   "cell_type": "code",
   "execution_count": null,
   "metadata": {
    "scrolled": true
   },
   "outputs": [],
   "source": [
    "for _ in range(step):\n",
    "    j += 1\n",
    "    summary, _ = sess.run([merged, train_step],\n",
    "                        feed_dict={x1: x_train, y_: y_train_log, keep_prob:keepout})\n",
    "    train_writer.add_summary(summary, j)\n",
    "    if j % 1000 == 0 :\n",
    "        print('step :', j, end='\\t')\n",
    "        print ('loss :',sess.run(cost, feed_dict={x1: x_train, y_: y_train_log, keep_prob:keepout}))"
   ]
  },
  {
   "cell_type": "code",
   "execution_count": null,
   "metadata": {},
   "outputs": [],
   "source": [
    "train_writer.close()"
   ]
  },
  {
   "cell_type": "markdown",
   "metadata": {},
   "source": [
    "### 검증"
   ]
  },
  {
   "cell_type": "code",
   "execution_count": null,
   "metadata": {},
   "outputs": [],
   "source": [
    "pred_train = np.exp(sess.run(k, feed_dict={x1: x_train, keep_prob : 1}))\n",
    "\n",
    "plt.figure(figsize=(10, 5))\n",
    "plt.scatter(y_train, pred_train, s=20)\n",
    "plt.title('Predicted vs. Actual')\n",
    "plt.xlabel('Actual Sale Price')\n",
    "plt.ylabel('Predicted Sale Price')\n",
    "\n",
    "plt.plot([min(y_train), max(y_train)], [min(y_train), max(y_train)])\n",
    "plt.tight_layout()\n",
    "\n",
    "print(rmsle(y_train,pred_train))"
   ]
  },
  {
   "cell_type": "markdown",
   "metadata": {},
   "source": [
    "### test(predict)"
   ]
  },
  {
   "cell_type": "code",
   "execution_count": null,
   "metadata": {
    "scrolled": true
   },
   "outputs": [],
   "source": [
    "print (\"Testing model\")\n",
    "# Test trained model\n",
    "hidden2_pred = np.exp(sess.run(k, feed_dict={x1: x_test, keep_prob : 1}))\n",
    "\n",
    "submission = pd.DataFrame()\n",
    "submission['Id'] = x_test.index+1461\n",
    "submission['SalePrice'] = (hidden2_pred)\n",
    "print(submission)\n",
    "submission.to_csv('./output_csv/MLP_tensorflow_all_normalize_skewed.csv', index=False)"
   ]
  },
  {
   "cell_type": "markdown",
   "metadata": {},
   "source": [
    "- - -\n",
    "# 3. keras\n",
    "### MLP or DNN"
   ]
  },
  {
   "cell_type": "code",
   "execution_count": null,
   "metadata": {},
   "outputs": [],
   "source": [
    "import tensorflow as tf\n",
    "from keras.models import Sequential\n",
    "from keras import metrics\n",
    "from keras import optimizers\n",
    "from keras.layers import Dense, Dropout\n",
    "from sklearn.metrics import make_scorer, mean_squared_error"
   ]
  },
  {
   "cell_type": "markdown",
   "metadata": {},
   "source": [
    "### data 정의"
   ]
  },
  {
   "cell_type": "code",
   "execution_count": null,
   "metadata": {},
   "outputs": [],
   "source": [
    "from sklearn.model_selection import train_test_split\n",
    "\n",
    "x_train_np = x_train.as_matrix()\n",
    "# y_train_np = y_train_log.as_matrix()\n",
    "x_test_np = x_test.as_matrix()"
   ]
  },
  {
   "cell_type": "markdown",
   "metadata": {},
   "source": [
    "### model 정의"
   ]
  },
  {
   "cell_type": "code",
   "execution_count": null,
   "metadata": {},
   "outputs": [],
   "source": [
    "def create_model():\n",
    "    # create model\n",
    "    model = Sequential()\n",
    "    model.add(Dense(200, input_dim=x_train_np.shape[1], activation='relu'))\n",
    "    tf.keras.layers.Dropout(0.5)\n",
    "    model.add(Dense(130, activation='relu'))\n",
    "    tf.keras.layers.Dropout(0.5)\n",
    "#     model.add(Dense(35, activation='relu'))\n",
    "#     tf.keras.layers.Dropout(0.2)\n",
    "    model.add(Dense(1))\n",
    "    # Compile model\n",
    "    adam = optimizers.Adam(lr=0.00003)\n",
    "    model.compile(optimizer =adam, loss = 'mean_squared_error', \n",
    "              metrics =[metrics.mae])\n",
    "    return model"
   ]
  },
  {
   "cell_type": "code",
   "execution_count": null,
   "metadata": {},
   "outputs": [],
   "source": [
    "model = create_model()\n",
    "model.summary()"
   ]
  },
  {
   "cell_type": "markdown",
   "metadata": {},
   "source": [
    "### train, valid data split / 학습"
   ]
  },
  {
   "cell_type": "code",
   "execution_count": null,
   "metadata": {
    "scrolled": true
   },
   "outputs": [],
   "source": [
    "X_train, X_test, y_train, y_test = train_test_split(x_train_np, y_train_log, test_size=0.33, random_state=7)\n",
    "hist = model.fit(X_train, y_train, validation_data=(X_test,y_test), \n",
    "                    epochs=2000, batch_size = 256)"
   ]
  },
  {
   "cell_type": "code",
   "execution_count": null,
   "metadata": {
    "scrolled": true
   },
   "outputs": [],
   "source": [
    "plt.figure(figsize=(11,7))\n",
    "plt.subplot(1,2,1)\n",
    "plt.plot(hist.history['loss'], 'b-', label=\"training\")\n",
    "plt.ylim([0,0.001])\n",
    "plt.title(\"훈련 중 비용함수 그래프\")\n",
    "plt.ylabel(\"비용함수 값\")\n",
    "plt.subplot(1,2,2)\n",
    "plt.title(\"훈련 중 성능지표 그래프\")\n",
    "plt.ylabel(\"성능지표 값\")\n",
    "plt.plot(hist.history['loss'], 'b-', label=\"training\")\n",
    "plt.plot(hist.history['val_loss'], 'r:', label=\"test\")\n",
    "plt.ylim([0,0.08])\n",
    "plt.legend()\n",
    "plt.tight_layout()\n",
    "plt.show()"
   ]
  },
  {
   "cell_type": "code",
   "execution_count": null,
   "metadata": {
    "scrolled": true
   },
   "outputs": [],
   "source": [
    "y_pred = model.predict(X_test)\n",
    "display(y_pred.shape)\n",
    "display(y_test.shape)\n",
    "\n",
    "plt.figure(figsize=(10, 5))\n",
    "plt.scatter(y_test, y_pred, s=20)\n",
    "plt.title('Predicted vs. Actual')\n",
    "plt.xlabel('Actual Sale Price')\n",
    "plt.ylabel('Predicted Sale Price')\n",
    "\n",
    "plt.plot([min(y_test), max(y_test)], [min(y_test), max(y_test)])\n",
    "plt.tight_layout()\n",
    "print(rmsle(np.exp(y_pred),np.exp(y_test)))"
   ]
  },
  {
   "cell_type": "markdown",
   "metadata": {},
   "source": [
    "### train 전체 데이터로 학습(fit), test로 predict"
   ]
  },
  {
   "cell_type": "code",
   "execution_count": null,
   "metadata": {},
   "outputs": [],
   "source": [
    "x_train.shape"
   ]
  },
  {
   "cell_type": "code",
   "execution_count": null,
   "metadata": {},
   "outputs": [],
   "source": [
    "hist = model.fit(x_train, y_train_log, epochs=5000, batch_size = 200)"
   ]
  },
  {
   "cell_type": "code",
   "execution_count": null,
   "metadata": {},
   "outputs": [],
   "source": [
    "keras_pred = np.exp(model.predict(x_test))"
   ]
  },
  {
   "cell_type": "code",
   "execution_count": null,
   "metadata": {},
   "outputs": [],
   "source": [
    "submission = pd.DataFrame()\n",
    "submission['Id'] = x_test.index+1461\n",
    "submission['SalePrice'] = keras_pred\n",
    "print(submission)\n",
    "\n",
    "submission.to_csv('./output_csv/kerasMNN_all_normalize_skewed.csv', index=False)"
   ]
  },
  {
   "cell_type": "code",
   "execution_count": null,
   "metadata": {},
   "outputs": [],
   "source": [
    "data_train.head()"
   ]
  },
  {
   "cell_type": "markdown",
   "metadata": {},
   "source": [
    "- - -\n",
    "# 4. Randomforest"
   ]
  },
  {
   "cell_type": "code",
   "execution_count": 14,
   "metadata": {},
   "outputs": [],
   "source": [
    "from sklearn.cross_validation import train_test_split\n",
    "from sklearn.cross_validation import cross_val_score\n",
    "from sklearn.metrics import make_scorer, mean_squared_error\n",
    "from sklearn.ensemble import RandomForestRegressor\n",
    "\n",
    "X_train1, X_test1, y_train1, y_test1 = train_test_split(x_train, y_train_log)"
   ]
  },
  {
   "cell_type": "markdown",
   "metadata": {},
   "source": [
    "### train data 학습 후 valid data 검증"
   ]
  },
  {
   "cell_type": "code",
   "execution_count": 15,
   "metadata": {},
   "outputs": [
    {
     "name": "stdout",
     "output_type": "stream",
     "text": [
      "38077.17183368758\n"
     ]
    },
    {
     "data": {
      "image/png": "[encoded data removed]",
      "text/plain": [
       "<matplotlib.figure.Figure at 0x7f8608e35f28>"
      ]
     },
     "metadata": {},
     "output_type": "display_data"
    }
   ],
   "source": [
    "clf = RandomForestRegressor(n_estimators=5000, n_jobs=-1)\n",
    "\n",
    "clf.fit(X_train1, y_train1)\n",
    "y_pred = clf.predict(X_test1)\n",
    "\n",
    "plt.figure(figsize=(10, 5))\n",
    "plt.scatter(y_test1, y_pred, s=20)\n",
    "plt.title('Predicted vs. Actual')\n",
    "plt.xlabel('Actual Sale Price')\n",
    "plt.ylabel('Predicted Sale Price')\n",
    "\n",
    "plt.plot([min(y_test1), max(y_test1)], [min(y_test1), max(y_test1)])\n",
    "plt.tight_layout()\n",
    "print(rmsle(np.exp(y_test1),np.exp(y_pred)))"
   ]
  },
  {
   "cell_type": "markdown",
   "metadata": {},
   "source": [
    "### train data 전체 학습"
   ]
  },
  {
   "cell_type": "code",
   "execution_count": 16,
   "metadata": {},
   "outputs": [
    {
     "data": {
      "text/plain": [
       "RandomForestRegressor(bootstrap=True, criterion='mse', max_depth=None,\n",
       "           max_features='auto', max_leaf_nodes=None,\n",
       "           min_impurity_decrease=0.0, min_impurity_split=None,\n",
       "           min_samples_leaf=1, min_samples_split=2,\n",
       "           min_weight_fraction_leaf=0.0, n_estimators=5000, n_jobs=-1,\n",
       "           oob_score=False, random_state=None, verbose=0, warm_start=False)"
      ]
     },
     "execution_count": 16,
     "metadata": {},
     "output_type": "execute_result"
    }
   ],
   "source": [
    "clf.fit(x_train, y_train_log)"
   ]
  },
  {
   "cell_type": "markdown",
   "metadata": {},
   "source": [
    "### test data로 prediction"
   ]
  },
  {
   "cell_type": "code",
   "execution_count": 17,
   "metadata": {},
   "outputs": [
    {
     "data": {
      "text/plain": [
       "array([126264.42118287, 152942.283433  , 174394.72605587, ...,\n",
       "       152984.48347626, 115036.9499959 , 235681.0389118 ])"
      ]
     },
     "execution_count": 17,
     "metadata": {},
     "output_type": "execute_result"
    }
   ],
   "source": [
    "y_pred = clf.predict(x_test)\n",
    "randfor_pred = np.exp(y_pred)\n",
    "randfor_pred"
   ]
  },
  {
   "cell_type": "markdown",
   "metadata": {},
   "source": [
    "- - -\n",
    "# 5. xgboost"
   ]
  },
  {
   "cell_type": "markdown",
   "metadata": {},
   "source": [
    "### 모델 정의 및 검증"
   ]
  },
  {
   "cell_type": "code",
   "execution_count": 18,
   "metadata": {},
   "outputs": [
    {
     "name": "stdout",
     "output_type": "stream",
     "text": [
      "24083.054679952045\n"
     ]
    },
    {
     "data": {
      "image/png": "[encoded data removed]",
      "text/plain": [
       "<matplotlib.figure.Figure at 0x7f861872d780>"
      ]
     },
     "metadata": {},
     "output_type": "display_data"
    }
   ],
   "source": [
    "import xgboost as xgb\n",
    "\n",
    "X_train1, X_test1, y_train1, y_test1 = train_test_split(x_train, y_train_log)\n",
    "\n",
    "model_xgb = xgb.XGBRegressor(colsample_bytree=0.4603, gamma=0.0468, \n",
    "                             learning_rate=0.05, max_depth=3, \n",
    "                             min_child_weight=1.7817, n_estimators=1500,\n",
    "                             reg_alpha=0.4640, reg_lambda=0.8571,\n",
    "                             subsample=0.5213, silent=1,\n",
    "                             random_state =7, nthread = -1, tree_method='gpu_hist')\n",
    "\n",
    "model_xgb.fit(X_train1, y_train1)\n",
    "y_pred = model_xgb.predict(X_test1)\n",
    "\n",
    "# y_pred = np.exp(y_pred)\n",
    "\n",
    "\n",
    "plt.figure(figsize=(10, 5))\n",
    "plt.scatter(y_test1, y_pred, s=20)\n",
    "plt.title('Predicted vs. Actual')\n",
    "plt.xlabel('Actual Sale Price')\n",
    "plt.ylabel('Predicted Sale Price')\n",
    "\n",
    "plt.plot([min(y_test1), max(y_test1)], [min(y_test1), max(y_test1)])\n",
    "plt.tight_layout()\n",
    "print(rmsle(np.exp(y_test1),np.exp(y_pred)))"
   ]
  },
  {
   "cell_type": "markdown",
   "metadata": {},
   "source": [
    "### train data 전체 학습"
   ]
  },
  {
   "cell_type": "code",
   "execution_count": 19,
   "metadata": {},
   "outputs": [
    {
     "name": "stdout",
     "output_type": "stream",
     "text": [
      "[124170.41 161630.44 183607.55 ... 162480.14 117374.42 226059.42]\n"
     ]
    }
   ],
   "source": [
    "model_xgb = xgb.XGBRegressor(colsample_bytree=0.3, gamma=0.05, \n",
    "                             learning_rate=0.005, max_depth=4, \n",
    "                             min_child_weight=2.0, n_estimators=4000,\n",
    "                             reg_alpha=0.5, reg_lambda=1.,\n",
    "                             subsample=0.5213, silent=1,\n",
    "                             random_state =7, nthread = -1, tree_method='gpu_hist')\n",
    "\n",
    "model_xgb.fit(x_train, y_train_log)\n",
    "y_pred = model_xgb.predict(x_test)\n",
    "xgb_pred = np.exp(y_pred)\n",
    "print(xgb_pred)\n",
    "my_submission = pd.DataFrame({'Id': x_test.index+1461, 'SalePrice': xgb_pred})\n",
    "# you could use any filename. We choose submission here\n",
    "my_submission.to_csv('./output_csv/xgb_all_normalize_skewed.csv', index=False)"
   ]
  },
  {
   "cell_type": "markdown",
   "metadata": {},
   "source": [
    "- - -\n",
    "# 6. LightGBM"
   ]
  },
  {
   "cell_type": "markdown",
   "metadata": {},
   "source": [
    "### 모델 정의 및 검증"
   ]
  },
  {
   "cell_type": "code",
   "execution_count": 20,
   "metadata": {},
   "outputs": [
    {
     "name": "stdout",
     "output_type": "stream",
     "text": [
      "25749.757771863777\n"
     ]
    },
    {
     "data": {
      "image/png": "[encoded data removed]",
      "text/plain": [
       "<matplotlib.figure.Figure at 0x7f8613692d30>"
      ]
     },
     "metadata": {},
     "output_type": "display_data"
    }
   ],
   "source": [
    "import lightgbm as lgb\n",
    "\n",
    "y_train_log = y_train_log.reshape(y_train_log.shape[0])\n",
    "\n",
    "X_train1, X_test1, y_train1, y_test1 = train_test_split(x_train, y_train_log)\n",
    "\n",
    "model_lgb = lgb.LGBMRegressor(objective='regression',num_leaves=5,\n",
    "                              learning_rate=0.05, n_estimators=5000,\n",
    "                              max_bin = 55, bagging_fraction = 0.8,\n",
    "                              bagging_freq = 5, feature_fraction = 0.2319,\n",
    "                              feature_fraction_seed=9, bagging_seed=9,\n",
    "                              min_data_in_leaf =6, min_sum_hessian_in_leaf = 11)\n",
    "\n",
    "model_lgb.fit(X_train1, y_train1)\n",
    "y_pred = model_lgb.predict(X_test1)\n",
    "\n",
    "# y_pred = np.exp(y_pred)\n",
    "\n",
    "\n",
    "plt.figure(figsize=(10, 5))\n",
    "plt.scatter(y_test1, y_pred, s=20)\n",
    "plt.title('Predicted vs. Actual')\n",
    "plt.xlabel('Actual Sale Price')\n",
    "plt.ylabel('Predicted Sale Price')\n",
    "\n",
    "plt.plot([min(y_test1), max(y_test1)], [min(y_test1), max(y_test1)])\n",
    "plt.tight_layout()\n",
    "print(rmsle(np.exp(y_test1),np.exp(y_pred)))"
   ]
  },
  {
   "cell_type": "code",
   "execution_count": 21,
   "metadata": {},
   "outputs": [
    {
     "name": "stdout",
     "output_type": "stream",
     "text": [
      "[127802.83550706 163502.79746301 184889.54519198 ... 177286.51881279\n",
      " 113725.06059832 207193.54008689]\n"
     ]
    }
   ],
   "source": [
    "model_lgb = lgb.LGBMRegressor(objective='regression',num_leaves=5,\n",
    "                              learning_rate=0.05, n_estimators=12000,\n",
    "                              max_bin = 64, bagging_fraction = 0.8,\n",
    "                              bagging_freq = 5, feature_fraction = 0.2319,\n",
    "                              feature_fraction_seed=16 , bagging_seed=9,\n",
    "                              min_data_in_leaf =3, min_sum_hessian_in_leaf = 11)\n",
    "\n",
    "model_lgb.fit(x_train, y_train_log)\n",
    "y_pred = model_lgb.predict(x_test)\n",
    "lgb_pred = np.exp(y_pred)\n",
    "print(lgb_pred)\n",
    "my_submission = pd.DataFrame({'Id': x_test.index+1461, 'SalePrice': lgb_pred})\n",
    "# you could use any filename. We choose submission here\n",
    "my_submission.to_csv('./output_csv/lgb_all_normalize_skewed.csv', index=False)"
   ]
  },
  {
   "cell_type": "markdown",
   "metadata": {},
   "source": [
    "- - -\n",
    "# 7. Lasso"
   ]
  },
  {
   "cell_type": "code",
   "execution_count": 22,
   "metadata": {},
   "outputs": [],
   "source": [
    "from sklearn.linear_model import Lasso\n",
    "\n",
    "las = Lasso(alpha =0.0005, random_state=1)\n",
    "las.fit(x_train, y_train_log)\n",
    "las_pred = np.exp(las.predict(x_test))"
   ]
  },
  {
   "cell_type": "markdown",
   "metadata": {},
   "source": [
    "- - -\n",
    "# 8. ElasticNet"
   ]
  },
  {
   "cell_type": "code",
   "execution_count": 23,
   "metadata": {},
   "outputs": [],
   "source": [
    "from sklearn.linear_model import ElasticNet\n",
    "\n",
    "model_EN = ElasticNet(alpha=0.001, l1_ratio=0.5, normalize=False)\n",
    "\n",
    "model_EN.fit(x_train,y_train_log)\n",
    "EN_pred = np.exp(model_EN.predict(x_test))"
   ]
  },
  {
   "cell_type": "markdown",
   "metadata": {},
   "source": [
    "- - -\n",
    "## K-fold cross validation"
   ]
  },
  {
   "cell_type": "code",
   "execution_count": 24,
   "metadata": {},
   "outputs": [
    {
     "name": "stdout",
     "output_type": "stream",
     "text": [
      "1    XGBRegressor\n",
      "CV accuracy scores: [0.92825926 0.90310659 0.9038021  0.91775183 0.89750618]\n",
      "CV accuracy: 0.910 +/- 0.011\n",
      "\n",
      "2    LGBMRegressor\n",
      "CV accuracy scores: [0.9147612  0.89991965 0.88941538 0.90872997 0.88498538]\n",
      "CV accuracy: 0.900 +/- 0.011\n",
      "\n",
      "3    RandomForestRegressor\n",
      "CV accuracy scores: [0.87329046 0.8680975  0.87328697 0.88663943 0.85319449]\n",
      "CV accuracy: 0.871 +/- 0.011\n",
      "\n",
      "4    Lasso\n",
      "CV accuracy scores: [0.92883621 0.90172464 0.90610201 0.92105522 0.85862363]\n",
      "CV accuracy: 0.903 +/- 0.024\n",
      "\n",
      "5    ElasticNet\n",
      "CV accuracy scores: [0.92720743 0.90276311 0.90818771 0.91947649 0.85870489]\n",
      "CV accuracy: 0.903 +/- 0.024\n",
      "\n"
     ]
    }
   ],
   "source": [
    "from sklearn.cross_validation import cross_val_score\n",
    "\n",
    "# randomforest, xgb, lgbm, lasso, ElasticNet 의 검증\n",
    "model_list = [model_xgb, model_lgb, clf, las ,model_EN]\n",
    "\n",
    "j = 0\n",
    "for i in model_list:\n",
    "    j+=1\n",
    "    print(j, \"  \", str(i).split('(')[0])\n",
    "    scores = cross_val_score(estimator=i, \n",
    "                             X=x_train, \n",
    "                             y=y_train_log, \n",
    "                             cv=5,\n",
    "                             n_jobs=1)\n",
    "    print('CV accuracy scores: %s' % scores)\n",
    "    print('CV accuracy: %.3f +/- %.3f\\n' % (np.mean(scores), np.std(scores)))\n",
    "    "
   ]
  },
  {
   "cell_type": "markdown",
   "metadata": {},
   "source": [
    "- - -\n",
    "# ensemble 적용, 예측\n",
    " 실질적으로 2, 3번 model을 ensemble model로 선정하여 추가하였을 때 오히려 accuracy가 낮아진다. 그래서 2, 3번 model을 제외한 모든 model을 ensemble하여 평균값으로 최종 가격을 예측하였다."
   ]
  },
  {
   "cell_type": "code",
   "execution_count": 25,
   "metadata": {},
   "outputs": [],
   "source": [
    "# (?, ) -> (?, 1)\n",
    "randfor_pred = randfor_pred.reshape([randfor_pred.shape[0], 1])\n",
    "xgb_pred = xgb_pred.reshape([xgb_pred.shape[0], 1])\n",
    "lgb_pred = lgb_pred.reshape([lgb_pred.shape[0], 1])\n",
    "las_pred = las_pred.reshape([las_pred.shape[0], 1])\n",
    "EN_pred = EN_pred.reshape([EN_pred.shape[0], 1])"
   ]
  },
  {
   "cell_type": "code",
   "execution_count": 26,
   "metadata": {
    "scrolled": true
   },
   "outputs": [
    {
     "name": "stdout",
     "output_type": "stream",
     "text": [
      "        Id      SalePrice\n",
      "0     1461  122388.246860\n",
      "1     1462  157257.234538\n",
      "2     1463  184212.631393\n",
      "3     1464  198659.357309\n",
      "4     1465  195478.986386\n",
      "5     1466  172555.035078\n",
      "6     1467  178729.617831\n",
      "7     1468  163280.762240\n",
      "8     1469  190768.230675\n",
      "9     1470  122413.478038\n",
      "10    1471  185712.137283\n",
      "11    1472   97685.463313\n",
      "12    1473   96954.672285\n",
      "13    1474  147490.524861\n",
      "14    1475  113842.527606\n",
      "15    1476  365691.857613\n",
      "16    1477  250365.233231\n",
      "17    1478  298853.736919\n",
      "18    1479  300333.773291\n",
      "19    1480  476829.262845\n",
      "20    1481  330742.967782\n",
      "21    1482  212091.054639\n",
      "22    1483  180054.016386\n",
      "23    1484  167498.091756\n",
      "24    1485  184388.653459\n",
      "25    1486  194519.532837\n",
      "26    1487  340751.013350\n",
      "27    1488  232437.358401\n",
      "28    1489  199629.124637\n",
      "29    1490  243524.662125\n",
      "...    ...            ...\n",
      "1429  2890   80050.455259\n",
      "1430  2891  137909.554718\n",
      "1431  2892   44232.864642\n",
      "1432  2893   75802.070862\n",
      "1433  2894   56098.502105\n",
      "1434  2895  333790.477797\n",
      "1435  2896  280684.151242\n",
      "1436  2897  212026.660025\n",
      "1437  2898  145347.426758\n",
      "1438  2899  209438.952833\n",
      "1439  2900  160724.888256\n",
      "1440  2901  212799.368005\n",
      "1441  2902  180905.919521\n",
      "1442  2903  330161.915765\n",
      "1443  2904  340661.750517\n",
      "1444  2905   81235.125679\n",
      "1445  2906  191880.893432\n",
      "1446  2907  109480.662428\n",
      "1447  2908  132343.376712\n",
      "1448  2909  146102.658399\n",
      "1449  2910   80132.969083\n",
      "1450  2911   80384.547277\n",
      "1451  2912  150534.964176\n",
      "1452  2913   83434.695972\n",
      "1453  2914   78191.387637\n",
      "1454  2915   84810.285898\n",
      "1455  2916   83571.961176\n",
      "1456  2917  171374.522900\n",
      "1457  2918  118577.206201\n",
      "1458  2919  218872.321095\n",
      "\n",
      "[1459 rows x 2 columns]\n"
     ]
    }
   ],
   "source": [
    "mean_pred = (xgb_pred+hidden1_pred+lgb_pred + las_pred + EN_pred)/5\n",
    "\n",
    "submission = pd.DataFrame()\n",
    "submission['Id'] = x_test.index+1461\n",
    "submission['SalePrice'] = (mean_pred)\n",
    "print(submission)\n",
    "submission.to_csv('./output_csv/mean_pred.csv', index=False)"
   ]
  }
 ],
 "metadata": {
  "kernelspec": {
   "display_name": "Python 3",
   "language": "python",
   "name": "python3"
  },
  "language_info": {
   "codemirror_mode": {
    "name": "ipython",
    "version": 3
   },
   "file_extension": ".py",
   "mimetype": "text/x-python",
   "name": "python",
   "nbconvert_exporter": "python",
   "pygments_lexer": "ipython3",
   "version": "3.6.8"
  }
 },
 "nbformat": 4,
 "nbformat_minor": 2
}
